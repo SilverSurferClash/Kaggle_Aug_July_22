{
 "cells": [
  {
   "cell_type": "code",
   "execution_count": 1,
   "id": "13ed51c3",
   "metadata": {
    "execution": {
     "iopub.execute_input": "2022-08-20T16:45:23.047461Z",
     "iopub.status.busy": "2022-08-20T16:45:23.046115Z",
     "iopub.status.idle": "2022-08-20T16:45:24.705253Z",
     "shell.execute_reply": "2022-08-20T16:45:24.702770Z"
    },
    "papermill": {
     "duration": 1.670437,
     "end_time": "2022-08-20T16:45:24.709088",
     "exception": false,
     "start_time": "2022-08-20T16:45:23.038651",
     "status": "completed"
    },
    "tags": []
   },
   "outputs": [],
   "source": [
    "import os\n",
    "import numpy as np\n",
    "import pandas as pd\n",
    "import time\n",
    "from pathlib import Path\n",
    "import sys\n",
    "\n",
    "\n",
    "\n",
    "\n",
    "from sklearn import model_selection\n",
    "from sklearn.model_selection import GroupKFold\n",
    "from sklearn import metrics\n",
    "from sklearn.metrics import classification_report, accuracy_score, roc_auc_score\n",
    "\n",
    "#Models\n",
    "\n",
    "import xgboost as xgb\n",
    "from sklearn.svm import SVC\n",
    "from sklearn import tree\n",
    "from sklearn.linear_model import LogisticRegression\n",
    "from sklearn.ensemble import RandomForestClassifier, ExtraTreesClassifier\n",
    "#Feature engineerring\n",
    "from sklearn.preprocessing import FunctionTransformer, StandardScaler, OneHotEncoder\n",
    "from sklearn.pipeline import Pipeline, FeatureUnion\n",
    "from sklearn.compose import ColumnTransformer\n",
    "\n",
    "#Splitting the data\n",
    "from sklearn.model_selection import train_test_split, GridSearchCV, cross_validate, cross_val_score\n",
    "\n",
    "# Hyperparameter optimization\n",
    "\n",
    "import optuna\n",
    "\n",
    "\n",
    "import warnings\n",
    "warnings.filterwarnings(\"ignore\")\n"
   ]
  },
  {
   "cell_type": "code",
   "execution_count": 2,
   "id": "e5e214d4",
   "metadata": {
    "execution": {
     "iopub.execute_input": "2022-08-20T16:45:24.733288Z",
     "iopub.status.busy": "2022-08-20T16:45:24.732688Z",
     "iopub.status.idle": "2022-08-20T16:45:39.886888Z",
     "shell.execute_reply": "2022-08-20T16:45:39.885884Z"
    },
    "papermill": {
     "duration": 15.170204,
     "end_time": "2022-08-20T16:45:39.889603",
     "exception": false,
     "start_time": "2022-08-20T16:45:24.719399",
     "status": "completed"
    },
    "tags": []
   },
   "outputs": [
    {
     "name": "stdout",
     "output_type": "stream",
     "text": [
      "Collecting feature_engine\r\n",
      "  Downloading feature_engine-1.4.0-py2.py3-none-any.whl (276 kB)\r\n",
      "\u001b[2K     \u001b[90m━━━━━━━━━━━━━━━━━━━━━━━━━━━━━━━━━━━━━━━\u001b[0m \u001b[32m276.4/276.4 kB\u001b[0m \u001b[31m1.3 MB/s\u001b[0m eta \u001b[36m0:00:00\u001b[0m\r\n",
      "\u001b[?25hRequirement already satisfied: scipy>=1.4.1 in /opt/conda/lib/python3.7/site-packages (from feature_engine) (1.7.3)\r\n",
      "Requirement already satisfied: numpy>=1.18.2 in /opt/conda/lib/python3.7/site-packages (from feature_engine) (1.21.6)\r\n",
      "Requirement already satisfied: statsmodels>=0.11.1 in /opt/conda/lib/python3.7/site-packages (from feature_engine) (0.13.2)\r\n",
      "Requirement already satisfied: pandas>=1.0.3 in /opt/conda/lib/python3.7/site-packages (from feature_engine) (1.3.5)\r\n",
      "Requirement already satisfied: scikit-learn>=1.0.0 in /opt/conda/lib/python3.7/site-packages (from feature_engine) (1.0.2)\r\n",
      "Requirement already satisfied: python-dateutil>=2.7.3 in /opt/conda/lib/python3.7/site-packages (from pandas>=1.0.3->feature_engine) (2.8.2)\r\n",
      "Requirement already satisfied: pytz>=2017.3 in /opt/conda/lib/python3.7/site-packages (from pandas>=1.0.3->feature_engine) (2022.1)\r\n",
      "Requirement already satisfied: threadpoolctl>=2.0.0 in /opt/conda/lib/python3.7/site-packages (from scikit-learn>=1.0.0->feature_engine) (3.1.0)\r\n",
      "Requirement already satisfied: joblib>=0.11 in /opt/conda/lib/python3.7/site-packages (from scikit-learn>=1.0.0->feature_engine) (1.0.1)\r\n",
      "Requirement already satisfied: patsy>=0.5.2 in /opt/conda/lib/python3.7/site-packages (from statsmodels>=0.11.1->feature_engine) (0.5.2)\r\n",
      "Requirement already satisfied: packaging>=21.3 in /opt/conda/lib/python3.7/site-packages (from statsmodels>=0.11.1->feature_engine) (21.3)\r\n",
      "Requirement already satisfied: pyparsing!=3.0.5,>=2.0.2 in /opt/conda/lib/python3.7/site-packages (from packaging>=21.3->statsmodels>=0.11.1->feature_engine) (3.0.9)\r\n",
      "Requirement already satisfied: six in /opt/conda/lib/python3.7/site-packages (from patsy>=0.5.2->statsmodels>=0.11.1->feature_engine) (1.16.0)\r\n",
      "Installing collected packages: feature_engine\r\n",
      "Successfully installed feature_engine-1.4.0\r\n",
      "\u001b[33mWARNING: Running pip as the 'root' user can result in broken permissions and conflicting behaviour with the system package manager. It is recommended to use a virtual environment instead: https://pip.pypa.io/warnings/venv\u001b[0m\u001b[33m\r\n",
      "\u001b[0mCloning into 'kuma_utils'...\r\n",
      "remote: Enumerating objects: 915, done.\u001b[K\r\n",
      "remote: Counting objects: 100% (120/120), done.\u001b[K\r\n",
      "remote: Compressing objects: 100% (24/24), done.\u001b[K\r\n",
      "remote: Total 915 (delta 104), reused 102 (delta 96), pack-reused 795\u001b[K\r\n",
      "Receiving objects: 100% (915/915), 679.99 KiB | 2.83 MiB/s, done.\r\n",
      "Resolving deltas: 100% (592/592), done.\r\n"
     ]
    },
    {
     "data": {
      "text/html": [
       "<style type='text/css'>\n",
       ".datatable table.frame { margin-bottom: 0; }\n",
       ".datatable table.frame thead { border-bottom: none; }\n",
       ".datatable table.frame tr.coltypes td {  color: #FFFFFF;  line-height: 6px;  padding: 0 0.5em;}\n",
       ".datatable .bool    { background: #DDDD99; }\n",
       ".datatable .object  { background: #565656; }\n",
       ".datatable .int     { background: #5D9E5D; }\n",
       ".datatable .float   { background: #4040CC; }\n",
       ".datatable .str     { background: #CC4040; }\n",
       ".datatable .time    { background: #40CC40; }\n",
       ".datatable .row_index {  background: var(--jp-border-color3);  border-right: 1px solid var(--jp-border-color0);  color: var(--jp-ui-font-color3);  font-size: 9px;}\n",
       ".datatable .frame tbody td { text-align: left; }\n",
       ".datatable .frame tr.coltypes .row_index {  background: var(--jp-border-color0);}\n",
       ".datatable th:nth-child(2) { padding-left: 12px; }\n",
       ".datatable .hellipsis {  color: var(--jp-cell-editor-border-color);}\n",
       ".datatable .vellipsis {  background: var(--jp-layout-color0);  color: var(--jp-cell-editor-border-color);}\n",
       ".datatable .na {  color: var(--jp-cell-editor-border-color);  font-size: 80%;}\n",
       ".datatable .sp {  opacity: 0.25;}\n",
       ".datatable .footer { font-size: 9px; }\n",
       ".datatable .frame_dimensions {  background: var(--jp-border-color3);  border-top: 1px solid var(--jp-border-color0);  color: var(--jp-ui-font-color3);  display: inline-block;  opacity: 0.6;  padding: 1px 10px 1px 5px;}\n",
       "</style>\n"
      ],
      "text/plain": [
       "<IPython.core.display.HTML object>"
      ]
     },
     "metadata": {},
     "output_type": "display_data"
    }
   ],
   "source": [
    "#Special packages\n",
    "!pip install feature_engine\n",
    "from feature_engine.encoding import WoEEncoder\n",
    "\n",
    "!git clone https://github.com/analokmaus/kuma_utils.git\n",
    "sys.path.append(\"kuma_utils/\")\n",
    "from kuma_utils.preprocessing.imputer import LGBMImputer"
   ]
  },
  {
   "cell_type": "code",
   "execution_count": 3,
   "id": "4af8b77c",
   "metadata": {
    "execution": {
     "iopub.execute_input": "2022-08-20T16:45:39.904001Z",
     "iopub.status.busy": "2022-08-20T16:45:39.903623Z",
     "iopub.status.idle": "2022-08-20T16:45:39.909493Z",
     "shell.execute_reply": "2022-08-20T16:45:39.908525Z"
    },
    "papermill": {
     "duration": 0.01547,
     "end_time": "2022-08-20T16:45:39.911655",
     "exception": false,
     "start_time": "2022-08-20T16:45:39.896185",
     "status": "completed"
    },
    "tags": []
   },
   "outputs": [],
   "source": [
    "# The config file class\n",
    "\n",
    "class Config:\n",
    "    path = \"../input/tabular-playground-series-aug-2022\"\n",
    "    target = \"failure\""
   ]
  },
  {
   "cell_type": "code",
   "execution_count": 4,
   "id": "2e9a6dba",
   "metadata": {
    "execution": {
     "iopub.execute_input": "2022-08-20T16:45:39.924997Z",
     "iopub.status.busy": "2022-08-20T16:45:39.924710Z",
     "iopub.status.idle": "2022-08-20T16:45:39.929066Z",
     "shell.execute_reply": "2022-08-20T16:45:39.928110Z"
    },
    "papermill": {
     "duration": 0.013207,
     "end_time": "2022-08-20T16:45:39.931011",
     "exception": false,
     "start_time": "2022-08-20T16:45:39.917804",
     "status": "completed"
    },
    "tags": []
   },
   "outputs": [],
   "source": [
    "# def read_data(path):\n",
    "#     data_dir = Path(path)\n",
    "\n",
    "#     train_import = pd.read_csv(data_dir / \"train.csv\")\n",
    "#     test_import = pd.read_csv(data_dir / \"test.csv\")\n",
    "#     submission_df = pd.read_csv(data_dir / \"sample_submission.csv\")\n",
    "\n",
    "#     print(f\"train data: Rows={train_import.shape[0]}, Columns={train_import.shape[1]}\")\n",
    "#     print(f\"test data : Rows={test_import.shape[0]}, Columns={test_import.shape[1]}\")\n",
    "#     return train_import, test_import, submission_df"
   ]
  },
  {
   "cell_type": "code",
   "execution_count": 5,
   "id": "2a014310",
   "metadata": {
    "_kg_hide-input": true,
    "execution": {
     "iopub.execute_input": "2022-08-20T16:45:39.944375Z",
     "iopub.status.busy": "2022-08-20T16:45:39.944095Z",
     "iopub.status.idle": "2022-08-20T16:45:40.179471Z",
     "shell.execute_reply": "2022-08-20T16:45:40.178471Z"
    },
    "papermill": {
     "duration": 0.244731,
     "end_time": "2022-08-20T16:45:40.181889",
     "exception": false,
     "start_time": "2022-08-20T16:45:39.937158",
     "status": "completed"
    },
    "tags": []
   },
   "outputs": [],
   "source": [
    "data_dir = Path(Config.path)\n",
    "\n",
    "train_import = pd.read_csv(data_dir / \"train.csv\", index_col=\"id\")\n",
    "test_import = pd.read_csv(data_dir / \"test.csv\", index_col=\"id\")\n",
    "submission_df = pd.read_csv(data_dir / \"sample_submission.csv\")"
   ]
  },
  {
   "cell_type": "code",
   "execution_count": 6,
   "id": "81876a02",
   "metadata": {
    "execution": {
     "iopub.execute_input": "2022-08-20T16:45:40.195931Z",
     "iopub.status.busy": "2022-08-20T16:45:40.195618Z",
     "iopub.status.idle": "2022-08-20T16:45:40.224947Z",
     "shell.execute_reply": "2022-08-20T16:45:40.223903Z"
    },
    "papermill": {
     "duration": 0.039379,
     "end_time": "2022-08-20T16:45:40.227902",
     "exception": false,
     "start_time": "2022-08-20T16:45:40.188523",
     "status": "completed"
    },
    "tags": []
   },
   "outputs": [
    {
     "data": {
      "text/html": [
       "<div>\n",
       "<style scoped>\n",
       "    .dataframe tbody tr th:only-of-type {\n",
       "        vertical-align: middle;\n",
       "    }\n",
       "\n",
       "    .dataframe tbody tr th {\n",
       "        vertical-align: top;\n",
       "    }\n",
       "\n",
       "    .dataframe thead th {\n",
       "        text-align: right;\n",
       "    }\n",
       "</style>\n",
       "<table border=\"1\" class=\"dataframe\">\n",
       "  <thead>\n",
       "    <tr style=\"text-align: right;\">\n",
       "      <th></th>\n",
       "      <th>product_code</th>\n",
       "      <th>loading</th>\n",
       "      <th>attribute_0</th>\n",
       "      <th>attribute_1</th>\n",
       "      <th>attribute_2</th>\n",
       "      <th>attribute_3</th>\n",
       "      <th>measurement_0</th>\n",
       "      <th>measurement_1</th>\n",
       "      <th>measurement_2</th>\n",
       "      <th>measurement_3</th>\n",
       "      <th>...</th>\n",
       "      <th>measurement_9</th>\n",
       "      <th>measurement_10</th>\n",
       "      <th>measurement_11</th>\n",
       "      <th>measurement_12</th>\n",
       "      <th>measurement_13</th>\n",
       "      <th>measurement_14</th>\n",
       "      <th>measurement_15</th>\n",
       "      <th>measurement_16</th>\n",
       "      <th>measurement_17</th>\n",
       "      <th>failure</th>\n",
       "    </tr>\n",
       "    <tr>\n",
       "      <th>id</th>\n",
       "      <th></th>\n",
       "      <th></th>\n",
       "      <th></th>\n",
       "      <th></th>\n",
       "      <th></th>\n",
       "      <th></th>\n",
       "      <th></th>\n",
       "      <th></th>\n",
       "      <th></th>\n",
       "      <th></th>\n",
       "      <th></th>\n",
       "      <th></th>\n",
       "      <th></th>\n",
       "      <th></th>\n",
       "      <th></th>\n",
       "      <th></th>\n",
       "      <th></th>\n",
       "      <th></th>\n",
       "      <th></th>\n",
       "      <th></th>\n",
       "      <th></th>\n",
       "    </tr>\n",
       "  </thead>\n",
       "  <tbody>\n",
       "    <tr>\n",
       "      <th>0</th>\n",
       "      <td>A</td>\n",
       "      <td>80.10</td>\n",
       "      <td>material_7</td>\n",
       "      <td>material_8</td>\n",
       "      <td>9</td>\n",
       "      <td>5</td>\n",
       "      <td>7</td>\n",
       "      <td>8</td>\n",
       "      <td>4</td>\n",
       "      <td>18.040</td>\n",
       "      <td>...</td>\n",
       "      <td>10.672</td>\n",
       "      <td>15.859</td>\n",
       "      <td>17.594</td>\n",
       "      <td>15.193</td>\n",
       "      <td>15.029</td>\n",
       "      <td>NaN</td>\n",
       "      <td>13.034</td>\n",
       "      <td>14.684</td>\n",
       "      <td>764.100</td>\n",
       "      <td>0</td>\n",
       "    </tr>\n",
       "    <tr>\n",
       "      <th>1</th>\n",
       "      <td>A</td>\n",
       "      <td>84.89</td>\n",
       "      <td>material_7</td>\n",
       "      <td>material_8</td>\n",
       "      <td>9</td>\n",
       "      <td>5</td>\n",
       "      <td>14</td>\n",
       "      <td>3</td>\n",
       "      <td>3</td>\n",
       "      <td>18.213</td>\n",
       "      <td>...</td>\n",
       "      <td>12.448</td>\n",
       "      <td>17.947</td>\n",
       "      <td>17.915</td>\n",
       "      <td>11.755</td>\n",
       "      <td>14.732</td>\n",
       "      <td>15.425</td>\n",
       "      <td>14.395</td>\n",
       "      <td>15.631</td>\n",
       "      <td>682.057</td>\n",
       "      <td>0</td>\n",
       "    </tr>\n",
       "    <tr>\n",
       "      <th>2</th>\n",
       "      <td>A</td>\n",
       "      <td>82.43</td>\n",
       "      <td>material_7</td>\n",
       "      <td>material_8</td>\n",
       "      <td>9</td>\n",
       "      <td>5</td>\n",
       "      <td>12</td>\n",
       "      <td>1</td>\n",
       "      <td>5</td>\n",
       "      <td>18.057</td>\n",
       "      <td>...</td>\n",
       "      <td>12.715</td>\n",
       "      <td>15.607</td>\n",
       "      <td>NaN</td>\n",
       "      <td>13.798</td>\n",
       "      <td>16.711</td>\n",
       "      <td>18.631</td>\n",
       "      <td>14.094</td>\n",
       "      <td>17.946</td>\n",
       "      <td>663.376</td>\n",
       "      <td>0</td>\n",
       "    </tr>\n",
       "    <tr>\n",
       "      <th>3</th>\n",
       "      <td>A</td>\n",
       "      <td>101.07</td>\n",
       "      <td>material_7</td>\n",
       "      <td>material_8</td>\n",
       "      <td>9</td>\n",
       "      <td>5</td>\n",
       "      <td>13</td>\n",
       "      <td>2</td>\n",
       "      <td>6</td>\n",
       "      <td>17.295</td>\n",
       "      <td>...</td>\n",
       "      <td>12.471</td>\n",
       "      <td>16.346</td>\n",
       "      <td>18.377</td>\n",
       "      <td>10.020</td>\n",
       "      <td>15.250</td>\n",
       "      <td>15.562</td>\n",
       "      <td>16.154</td>\n",
       "      <td>17.172</td>\n",
       "      <td>826.282</td>\n",
       "      <td>0</td>\n",
       "    </tr>\n",
       "    <tr>\n",
       "      <th>4</th>\n",
       "      <td>A</td>\n",
       "      <td>188.06</td>\n",
       "      <td>material_7</td>\n",
       "      <td>material_8</td>\n",
       "      <td>9</td>\n",
       "      <td>5</td>\n",
       "      <td>9</td>\n",
       "      <td>2</td>\n",
       "      <td>8</td>\n",
       "      <td>19.346</td>\n",
       "      <td>...</td>\n",
       "      <td>10.337</td>\n",
       "      <td>17.082</td>\n",
       "      <td>19.932</td>\n",
       "      <td>12.428</td>\n",
       "      <td>16.182</td>\n",
       "      <td>12.760</td>\n",
       "      <td>13.153</td>\n",
       "      <td>16.412</td>\n",
       "      <td>579.885</td>\n",
       "      <td>0</td>\n",
       "    </tr>\n",
       "  </tbody>\n",
       "</table>\n",
       "<p>5 rows × 25 columns</p>\n",
       "</div>"
      ],
      "text/plain": [
       "   product_code  loading attribute_0 attribute_1  attribute_2  attribute_3  \\\n",
       "id                                                                           \n",
       "0             A    80.10  material_7  material_8            9            5   \n",
       "1             A    84.89  material_7  material_8            9            5   \n",
       "2             A    82.43  material_7  material_8            9            5   \n",
       "3             A   101.07  material_7  material_8            9            5   \n",
       "4             A   188.06  material_7  material_8            9            5   \n",
       "\n",
       "    measurement_0  measurement_1  measurement_2  measurement_3  ...  \\\n",
       "id                                                              ...   \n",
       "0               7              8              4         18.040  ...   \n",
       "1              14              3              3         18.213  ...   \n",
       "2              12              1              5         18.057  ...   \n",
       "3              13              2              6         17.295  ...   \n",
       "4               9              2              8         19.346  ...   \n",
       "\n",
       "    measurement_9  measurement_10  measurement_11  measurement_12  \\\n",
       "id                                                                  \n",
       "0          10.672          15.859          17.594          15.193   \n",
       "1          12.448          17.947          17.915          11.755   \n",
       "2          12.715          15.607             NaN          13.798   \n",
       "3          12.471          16.346          18.377          10.020   \n",
       "4          10.337          17.082          19.932          12.428   \n",
       "\n",
       "    measurement_13  measurement_14  measurement_15  measurement_16  \\\n",
       "id                                                                   \n",
       "0           15.029             NaN          13.034          14.684   \n",
       "1           14.732          15.425          14.395          15.631   \n",
       "2           16.711          18.631          14.094          17.946   \n",
       "3           15.250          15.562          16.154          17.172   \n",
       "4           16.182          12.760          13.153          16.412   \n",
       "\n",
       "    measurement_17  failure  \n",
       "id                           \n",
       "0          764.100        0  \n",
       "1          682.057        0  \n",
       "2          663.376        0  \n",
       "3          826.282        0  \n",
       "4          579.885        0  \n",
       "\n",
       "[5 rows x 25 columns]"
      ]
     },
     "execution_count": 6,
     "metadata": {},
     "output_type": "execute_result"
    }
   ],
   "source": [
    "train_import.head()"
   ]
  },
  {
   "cell_type": "markdown",
   "id": "5e6eeba7",
   "metadata": {
    "papermill": {
     "duration": 0.016969,
     "end_time": "2022-08-20T16:45:40.252797",
     "exception": false,
     "start_time": "2022-08-20T16:45:40.235828",
     "status": "completed"
    },
    "tags": []
   },
   "source": [
    "## Initial data cleaning and re-casting of values"
   ]
  },
  {
   "cell_type": "code",
   "execution_count": 7,
   "id": "ef865d4c",
   "metadata": {
    "execution": {
     "iopub.execute_input": "2022-08-20T16:45:40.275525Z",
     "iopub.status.busy": "2022-08-20T16:45:40.275032Z",
     "iopub.status.idle": "2022-08-20T16:45:40.279656Z",
     "shell.execute_reply": "2022-08-20T16:45:40.278659Z"
    },
    "papermill": {
     "duration": 0.025833,
     "end_time": "2022-08-20T16:45:40.288618",
     "exception": false,
     "start_time": "2022-08-20T16:45:40.262785",
     "status": "completed"
    },
    "tags": []
   },
   "outputs": [],
   "source": [
    "# This step is not needed for this competition"
   ]
  },
  {
   "cell_type": "markdown",
   "id": "3ee8df7b",
   "metadata": {
    "papermill": {
     "duration": 0.012225,
     "end_time": "2022-08-20T16:45:40.314880",
     "exception": false,
     "start_time": "2022-08-20T16:45:40.302655",
     "status": "completed"
    },
    "tags": []
   },
   "source": [
    "## Feature engineering pipeline"
   ]
  },
  {
   "cell_type": "code",
   "execution_count": 8,
   "id": "018ff0db",
   "metadata": {
    "execution": {
     "iopub.execute_input": "2022-08-20T16:45:40.343832Z",
     "iopub.status.busy": "2022-08-20T16:45:40.343260Z",
     "iopub.status.idle": "2022-08-20T16:45:40.348233Z",
     "shell.execute_reply": "2022-08-20T16:45:40.347212Z"
    },
    "papermill": {
     "duration": 0.026124,
     "end_time": "2022-08-20T16:45:40.353171",
     "exception": false,
     "start_time": "2022-08-20T16:45:40.327047",
     "status": "completed"
    },
    "tags": []
   },
   "outputs": [],
   "source": [
    "# This will be a custom step for each competition"
   ]
  },
  {
   "cell_type": "code",
   "execution_count": 9,
   "id": "11490517",
   "metadata": {
    "execution": {
     "iopub.execute_input": "2022-08-20T16:45:40.376607Z",
     "iopub.status.busy": "2022-08-20T16:45:40.376049Z",
     "iopub.status.idle": "2022-08-20T16:45:40.397106Z",
     "shell.execute_reply": "2022-08-20T16:45:40.396203Z"
    },
    "papermill": {
     "duration": 0.036652,
     "end_time": "2022-08-20T16:45:40.399718",
     "exception": false,
     "start_time": "2022-08-20T16:45:40.363066",
     "status": "completed"
    },
    "tags": []
   },
   "outputs": [],
   "source": [
    "def preprocessing(df_train = train_import, df_test = test_import):\n",
    "\n",
    " #Inputs: The total training and test data set\n",
    "     \n",
    "    # Missing indicator\n",
    "    for df in [df_train, df_test]:\n",
    "        #Add a 1 whereever there was a missing value\n",
    "        df[\"m_3_missing\"] = df[\"measurement_3\"].isnull().astype(int)\n",
    "        df[\"m_5_missing\"] = df[\"measurement_5\"].isnull().astype(int)\n",
    "\n",
    "        \n",
    "    # Missing value imputation\n",
    "    imptr = LGBMImputer(n_iter=50) # Setup the LGBM imputer\n",
    "    def impute_nans(df_train, df_test):\n",
    "        nan_features = [col for col in df_train.columns if df_train[col].isnull().any()] # Selects the columns with nan values\n",
    "        for pc in df_train[\"product_code\"].unique(): # Loops through the unique values for the product code\n",
    "            #Selects the rows for each unique feature (similar to groupby) and fit_transform the nan values\n",
    "            df_train.loc[df_train[\"product_code\"]==pc, nan_features] = imptr.fit_transform(df_train.loc[df_train[\"product_code\"]==pc, nan_features])\n",
    "        \n",
    "        #Apply the same process to the test set\n",
    "        nan_features = [col for col in df_test.columns if df_test[col].isnull().any()]\n",
    "        for pc in df_test[\"product_code\"].unique():\n",
    "            df_test.loc[df_test[\"product_code\"]==pc, nan_features] = imptr.fit_transform(df_test.loc[df_test[\"product_code\"]==pc, nan_features])\n",
    "\n",
    "        return df_train, df_test\n",
    "    \n",
    "    df_train, df_test = impute_nans(df_train, df_test)\n",
    "    \n",
    "    # Area\n",
    "    for df in [df_train, df_test]: # Loop through the train and test data set and create a new feature by calculation the area\n",
    "        df[\"attribute_2*3\"] = df[\"attribute_2\"] * df[\"attribute_3\"]\n",
    "    \n",
    "    \n",
    "    # Aggregations\n",
    "    # Automated way to create additional features by using a list comprehension and f-strings - Output is a list\n",
    "    meas_gr1_cols = [f\"measurement_{i:d}\" for i in list(range(3, 5)) + list(range(9, 17))]\n",
    "    meas_gr2_cols = [f\"measurement_{i:d}\" for i in list(range(5, 9))]\n",
    "    # loop through the train and test data set and  \n",
    "    for df in [df_train, df_test]:\n",
    "        df[\"meas_gr1_avg\"] = np.mean(df[meas_gr1_cols], axis=1) # Calculate the mean of those columns\n",
    "        df[\"meas_gr1_std\"] = np.std(df[meas_gr1_cols], axis=1) # # Calculate the std, dev of those columns\n",
    "        df[\"meas_gr2_avg\"] = np.mean(df[meas_gr2_cols], axis=1) # Calculate the mean for the second list of features\n",
    "    \n",
    "    # Create a new feature by looping through the train and test set and dividing measure_17 by the average of meas_2_avg\n",
    "    for df in [df_train, df_test]:\n",
    "        df[\"meas17/meas_gr2_avg\"] = df[\"measurement_17\"] / df[\"meas_gr2_avg\"]\n",
    "        \n",
    "        #Applies the Weight of Evidence encoder to the categorical feature \"attribute_0\"\n",
    "        # WoE encoding\n",
    "    woe_encoder = WoEEncoder(variables=[\"attribute_0\"])\n",
    "    df_train[\"attribute_0\"] = woe_encoder.fit_transform(df_train[\"attribute_0\"].to_frame(), df_train[\"failure\"])\n",
    "    df_test[\"attribute_0\"] = woe_encoder.transform(df_test[\"attribute_0\"].to_frame())\n",
    "    \n",
    "    \n",
    "    features = [\"attribute_0\", \"measurement_0\", \"measurement_1\", \"measurement_2\", \"m_3_missing\", \"m_5_missing\",\n",
    "               \"meas_gr1_avg\", \"meas_gr1_std\", \"attribute_2*3\", \"loading\", \"measurement_17\", \"meas17/meas_gr2_avg\"] \\\n",
    "#                 + list(ohe_att_0_att_23.columns) + [\"gb_attribute_2*3_mean_loading\"] + list(ohe_att_23.columns)\n",
    "    \n",
    "#     del df_all, ohe_att_23, ohe_att_0_att_23\n",
    "#     gc.collect()\n",
    "    \n",
    "    return train_import, test_import, features"
   ]
  },
  {
   "cell_type": "code",
   "execution_count": 10,
   "id": "6b46091e",
   "metadata": {
    "execution": {
     "iopub.execute_input": "2022-08-20T16:45:40.421086Z",
     "iopub.status.busy": "2022-08-20T16:45:40.420564Z",
     "iopub.status.idle": "2022-08-20T16:45:40.425231Z",
     "shell.execute_reply": "2022-08-20T16:45:40.424395Z"
    },
    "papermill": {
     "duration": 0.018854,
     "end_time": "2022-08-20T16:45:40.428647",
     "exception": false,
     "start_time": "2022-08-20T16:45:40.409793",
     "status": "completed"
    },
    "tags": []
   },
   "outputs": [],
   "source": [
    "# Take-aways: Use list comprehension (including if statements) to select columns for transformation, Use a for loop to apply the transformation to the train and test set"
   ]
  },
  {
   "cell_type": "code",
   "execution_count": 11,
   "id": "ce7dcbd8",
   "metadata": {
    "execution": {
     "iopub.execute_input": "2022-08-20T16:45:40.448453Z",
     "iopub.status.busy": "2022-08-20T16:45:40.447941Z",
     "iopub.status.idle": "2022-08-20T16:46:07.140762Z",
     "shell.execute_reply": "2022-08-20T16:46:07.139679Z"
    },
    "papermill": {
     "duration": 26.705749,
     "end_time": "2022-08-20T16:46:07.143432",
     "exception": false,
     "start_time": "2022-08-20T16:45:40.437683",
     "status": "completed"
    },
    "tags": []
   },
   "outputs": [
    {
     "data": {
      "application/vnd.jupyter.widget-view+json": {
       "model_id": "df007ca8b44e4256a27787132911f8ce",
       "version_major": 2,
       "version_minor": 0
      },
      "text/plain": [
       "  0%|          | 0/16 [00:00<?, ?it/s]"
      ]
     },
     "metadata": {},
     "output_type": "display_data"
    },
    {
     "data": {
      "application/vnd.jupyter.widget-view+json": {
       "model_id": "0208f65a8d7d4074aa798947c32541f3",
       "version_major": 2,
       "version_minor": 0
      },
      "text/plain": [
       "  0%|          | 0/16 [00:00<?, ?it/s]"
      ]
     },
     "metadata": {},
     "output_type": "display_data"
    },
    {
     "data": {
      "application/vnd.jupyter.widget-view+json": {
       "model_id": "3a9b5be52e374dbe966b4046ccf046eb",
       "version_major": 2,
       "version_minor": 0
      },
      "text/plain": [
       "  0%|          | 0/16 [00:00<?, ?it/s]"
      ]
     },
     "metadata": {},
     "output_type": "display_data"
    },
    {
     "data": {
      "application/vnd.jupyter.widget-view+json": {
       "model_id": "8ecea63d02cb4ecd87438915d96cb059",
       "version_major": 2,
       "version_minor": 0
      },
      "text/plain": [
       "  0%|          | 0/16 [00:00<?, ?it/s]"
      ]
     },
     "metadata": {},
     "output_type": "display_data"
    },
    {
     "data": {
      "application/vnd.jupyter.widget-view+json": {
       "model_id": "e47854cd72b342f7804f74ec1a96be50",
       "version_major": 2,
       "version_minor": 0
      },
      "text/plain": [
       "  0%|          | 0/16 [00:00<?, ?it/s]"
      ]
     },
     "metadata": {},
     "output_type": "display_data"
    },
    {
     "data": {
      "application/vnd.jupyter.widget-view+json": {
       "model_id": "ad914de6e6514f489f8887b141cefc95",
       "version_major": 2,
       "version_minor": 0
      },
      "text/plain": [
       "  0%|          | 0/16 [00:00<?, ?it/s]"
      ]
     },
     "metadata": {},
     "output_type": "display_data"
    },
    {
     "data": {
      "application/vnd.jupyter.widget-view+json": {
       "model_id": "fe909a72ceb84fd1bd5f7c599ed42033",
       "version_major": 2,
       "version_minor": 0
      },
      "text/plain": [
       "  0%|          | 0/16 [00:00<?, ?it/s]"
      ]
     },
     "metadata": {},
     "output_type": "display_data"
    },
    {
     "data": {
      "application/vnd.jupyter.widget-view+json": {
       "model_id": "d526f7344764459ca58eed6558fae500",
       "version_major": 2,
       "version_minor": 0
      },
      "text/plain": [
       "  0%|          | 0/16 [00:00<?, ?it/s]"
      ]
     },
     "metadata": {},
     "output_type": "display_data"
    },
    {
     "data": {
      "application/vnd.jupyter.widget-view+json": {
       "model_id": "a25652ef92224d9b953435967c6a5933",
       "version_major": 2,
       "version_minor": 0
      },
      "text/plain": [
       "  0%|          | 0/16 [00:00<?, ?it/s]"
      ]
     },
     "metadata": {},
     "output_type": "display_data"
    }
   ],
   "source": [
    "df_train_proc, df_test_proc, features = preprocessing(train_import, test_import)"
   ]
  },
  {
   "cell_type": "code",
   "execution_count": 12,
   "id": "9af85a62",
   "metadata": {
    "execution": {
     "iopub.execute_input": "2022-08-20T16:46:07.162416Z",
     "iopub.status.busy": "2022-08-20T16:46:07.161443Z",
     "iopub.status.idle": "2022-08-20T16:46:07.175556Z",
     "shell.execute_reply": "2022-08-20T16:46:07.174681Z"
    },
    "papermill": {
     "duration": 0.025426,
     "end_time": "2022-08-20T16:46:07.177665",
     "exception": false,
     "start_time": "2022-08-20T16:46:07.152239",
     "status": "completed"
    },
    "tags": []
   },
   "outputs": [],
   "source": [
    "# Define the target and the feature matrix\n",
    "df_train_X = df_train_proc.drop(Config.target, axis = 1)\n",
    "\n",
    "df_train_y = df_train_proc[\"failure\"]\n",
    "\n",
    "\n"
   ]
  },
  {
   "cell_type": "code",
   "execution_count": 13,
   "id": "baffc333",
   "metadata": {
    "execution": {
     "iopub.execute_input": "2022-08-20T16:46:07.194451Z",
     "iopub.status.busy": "2022-08-20T16:46:07.194091Z",
     "iopub.status.idle": "2022-08-20T16:46:07.211802Z",
     "shell.execute_reply": "2022-08-20T16:46:07.209761Z"
    },
    "papermill": {
     "duration": 0.028813,
     "end_time": "2022-08-20T16:46:07.214163",
     "exception": false,
     "start_time": "2022-08-20T16:46:07.185350",
     "status": "completed"
    },
    "tags": []
   },
   "outputs": [
    {
     "name": "stdout",
     "output_type": "stream",
     "text": [
      "<class 'pandas.core.frame.DataFrame'>\n",
      "Int64Index: 26570 entries, 0 to 26569\n",
      "Data columns (total 31 columns):\n",
      " #   Column               Non-Null Count  Dtype  \n",
      "---  ------               --------------  -----  \n",
      " 0   product_code         26570 non-null  object \n",
      " 1   loading              26570 non-null  float64\n",
      " 2   attribute_0          26570 non-null  float64\n",
      " 3   attribute_1          26570 non-null  object \n",
      " 4   attribute_2          26570 non-null  int64  \n",
      " 5   attribute_3          26570 non-null  int64  \n",
      " 6   measurement_0        26570 non-null  int64  \n",
      " 7   measurement_1        26570 non-null  int64  \n",
      " 8   measurement_2        26570 non-null  int64  \n",
      " 9   measurement_3        26570 non-null  float64\n",
      " 10  measurement_4        26570 non-null  float64\n",
      " 11  measurement_5        26570 non-null  float64\n",
      " 12  measurement_6        26570 non-null  float64\n",
      " 13  measurement_7        26570 non-null  float64\n",
      " 14  measurement_8        26570 non-null  float64\n",
      " 15  measurement_9        26570 non-null  float64\n",
      " 16  measurement_10       26570 non-null  float64\n",
      " 17  measurement_11       26570 non-null  float64\n",
      " 18  measurement_12       26570 non-null  float64\n",
      " 19  measurement_13       26570 non-null  float64\n",
      " 20  measurement_14       26570 non-null  float64\n",
      " 21  measurement_15       26570 non-null  float64\n",
      " 22  measurement_16       26570 non-null  float64\n",
      " 23  measurement_17       26570 non-null  float64\n",
      " 24  m_3_missing          26570 non-null  int64  \n",
      " 25  m_5_missing          26570 non-null  int64  \n",
      " 26  attribute_2*3        26570 non-null  int64  \n",
      " 27  meas_gr1_avg         26570 non-null  float64\n",
      " 28  meas_gr1_std         26570 non-null  float64\n",
      " 29  meas_gr2_avg         26570 non-null  float64\n",
      " 30  meas17/meas_gr2_avg  26570 non-null  float64\n",
      "dtypes: float64(21), int64(8), object(2)\n",
      "memory usage: 6.5+ MB\n"
     ]
    }
   ],
   "source": [
    "df_train_X.info()"
   ]
  },
  {
   "cell_type": "code",
   "execution_count": 14,
   "id": "3f91c6ca",
   "metadata": {
    "execution": {
     "iopub.execute_input": "2022-08-20T16:46:07.231726Z",
     "iopub.status.busy": "2022-08-20T16:46:07.231361Z",
     "iopub.status.idle": "2022-08-20T16:46:07.243825Z",
     "shell.execute_reply": "2022-08-20T16:46:07.242956Z"
    },
    "papermill": {
     "duration": 0.023673,
     "end_time": "2022-08-20T16:46:07.245707",
     "exception": false,
     "start_time": "2022-08-20T16:46:07.222034",
     "status": "completed"
    },
    "tags": []
   },
   "outputs": [],
   "source": [
    "# Define the cross-validation approach\n",
    "\n",
    "# Initialise lists that store the results from the different folds\n",
    "\n",
    "def run(trial):\n",
    "\n",
    "    \n",
    "    xgb_params = { \"eval_metric\": \"auc\",  # auc, rmse, mae\n",
    "        \"objective\": \"binary:logistic\",\n",
    "        \"n_estimators\": trial.suggest_int(\"n_estimators\", 1000, 5000, 100),\n",
    "        \"learning_rate\": trial.suggest_loguniform(\"learning_rate\", 1e-2, 0.25),\n",
    "        \"subsample\": trial.suggest_float(\"subsample\", 0.1, 1, step=0.01),\n",
    "        \"colsample_bytree\": trial.suggest_float(\"colsample_bytree\", 0.05, 1, step=0.01),\n",
    "        \"max_depth\": trial.suggest_int(\"max_depth\", 1, 20),  # 10\n",
    "        \"gamma\": trial.suggest_float(\"gamma\", 0, 100, step=0.1),\n",
    "        \"booster\": \"gbtree\",\n",
    "        \"tree_method\": trial.suggest_categorical(\"tree_method\", [\"gpu_hist\"]), # hist, gpu_hist\n",
    "        #\"predictor\": \"gpu_predictor\",\n",
    "        \"reg_lambda\": trial.suggest_loguniform(\"reg_lambda\", 1e-8, 100),\n",
    "        \"reg_alpha\": trial.suggest_loguniform(\"reg_alpha\", 1e-8, 100),\n",
    "        \"random_state\": trial.suggest_categorical(\"random_state\",[42]),\n",
    "        \"n_jobs\": trial.suggest_categorical(\"n_jobs\", [4]),\n",
    "        \"min_child_weight\": trial.suggest_loguniform(\"min_child_weight\", 1e-1, 1e3),\n",
    "           }\n",
    "\n",
    "    \n",
    "    \n",
    "    \n",
    "    auc_list = []\n",
    "    importance_list = []\n",
    "\n",
    "\n",
    "    # initialise the cross-validation \"class\"\n",
    "\n",
    "    KFOLD = GroupKFold(n_splits=2)\n",
    "\n",
    "\n",
    "    for train_index, val_index in KFOLD.split(X = df_train_X, y = df_train_y, groups = df_train_X[\"product_code\"]):\n",
    "        #Define the train and validation data set\n",
    "        X_train = df_train_X.iloc[train_index]\n",
    "        X_val = df_train_X.iloc[val_index]\n",
    "        y_train = df_train_y.iloc[train_index]\n",
    "        y_val = df_train_y.iloc[val_index]\n",
    "\n",
    "        # Quick fix: Remove the product code variable\n",
    "        X_train = X_train.drop([\"product_code\", \"attribute_1\"], axis = 1).copy()\n",
    "        X_val = X_val.drop([\"product_code\", \"attribute_1\"], axis = 1).copy()\n",
    "        # Instaniate the model\n",
    "\n",
    "        model = xgb.XGBClassifier(**xgb_params)\n",
    "        #model = LogisticRegression(max_iter = 200, C=0.05, penalty='l1', solver='liblinear')\n",
    "\n",
    "        #Fit the model\n",
    "        model.fit(X_train, y_train)\n",
    "\n",
    "        # Make predictions on the validation set\n",
    "        val_pred_results = model.predict_proba(X_val)[:,1]\n",
    "        # Score the prediction by using a scoring function. The true value are the first argument, the predictions the second argument\n",
    "        score = roc_auc_score( y_val,val_pred_results)\n",
    "        print(f\"The ROC is {score:.4f}\")\n",
    "        # Append the ROC result from each fold to a list\n",
    "        auc_list.append(score)\n",
    "        # Append the results from the importance score to a list\n",
    "        #importance_list.append(model.coef_.ravel())\n",
    "\n",
    "        print(f\"The average ROC is {np.mean(auc_list)}\")\n",
    "        \n",
    "        return np.mean(auc_list)"
   ]
  },
  {
   "cell_type": "code",
   "execution_count": 15,
   "id": "82b7874b",
   "metadata": {
    "_kg_hide-output": true,
    "execution": {
     "iopub.execute_input": "2022-08-20T16:46:07.263551Z",
     "iopub.status.busy": "2022-08-20T16:46:07.262573Z",
     "iopub.status.idle": "2022-08-20T16:49:18.922242Z",
     "shell.execute_reply": "2022-08-20T16:49:18.920608Z"
    },
    "papermill": {
     "duration": 191.670846,
     "end_time": "2022-08-20T16:49:18.924701",
     "exception": false,
     "start_time": "2022-08-20T16:46:07.253855",
     "status": "completed"
    },
    "tags": []
   },
   "outputs": [
    {
     "name": "stderr",
     "output_type": "stream",
     "text": [
      "\u001b[32m[I 2022-08-20 16:46:07,265]\u001b[0m A new study created in memory with name: no-name-21a390e8-1416-4e6c-a4ae-f2bf0019cc7c\u001b[0m\n",
      "\u001b[32m[I 2022-08-20 16:46:11,167]\u001b[0m Trial 0 finished with value: 0.5 and parameters: {'n_estimators': 3100, 'learning_rate': 0.02729500881280114, 'subsample': 0.27, 'colsample_bytree': 0.42, 'max_depth': 10, 'gamma': 68.7, 'tree_method': 'gpu_hist', 'reg_lambda': 4.529440944443491e-06, 'reg_alpha': 0.0004676813295945299, 'random_state': 42, 'n_jobs': 4, 'min_child_weight': 632.4685199030143}. Best is trial 0 with value: 0.5.\u001b[0m\n"
     ]
    },
    {
     "name": "stdout",
     "output_type": "stream",
     "text": [
      "The ROC is 0.5000\n",
      "The average ROC is 0.5\n"
     ]
    },
    {
     "name": "stderr",
     "output_type": "stream",
     "text": [
      "\u001b[32m[I 2022-08-20 16:46:12,087]\u001b[0m Trial 1 finished with value: 0.5849926782536605 and parameters: {'n_estimators': 1500, 'learning_rate': 0.011692381796203091, 'subsample': 0.86, 'colsample_bytree': 0.67, 'max_depth': 7, 'gamma': 23.6, 'tree_method': 'gpu_hist', 'reg_lambda': 0.00019514274659555297, 'reg_alpha': 5.287665408903801e-08, 'random_state': 42, 'n_jobs': 4, 'min_child_weight': 1.773694778307274}. Best is trial 1 with value: 0.5849926782536605.\u001b[0m\n"
     ]
    },
    {
     "name": "stdout",
     "output_type": "stream",
     "text": [
      "The ROC is 0.5850\n",
      "The average ROC is 0.5849926782536605\n"
     ]
    },
    {
     "name": "stderr",
     "output_type": "stream",
     "text": [
      "\u001b[32m[I 2022-08-20 16:46:14,474]\u001b[0m Trial 2 finished with value: 0.5842186256394609 and parameters: {'n_estimators': 3600, 'learning_rate': 0.08745268163286028, 'subsample': 0.98, 'colsample_bytree': 0.27, 'max_depth': 8, 'gamma': 14.700000000000001, 'tree_method': 'gpu_hist', 'reg_lambda': 8.211271424350196e-05, 'reg_alpha': 1.459205736228473e-07, 'random_state': 42, 'n_jobs': 4, 'min_child_weight': 2.23779523084096}. Best is trial 1 with value: 0.5849926782536605.\u001b[0m\n"
     ]
    },
    {
     "name": "stdout",
     "output_type": "stream",
     "text": [
      "The ROC is 0.5842\n",
      "The average ROC is 0.5842186256394609\n"
     ]
    },
    {
     "name": "stderr",
     "output_type": "stream",
     "text": [
      "\u001b[32m[I 2022-08-20 16:46:18,624]\u001b[0m Trial 3 finished with value: 0.5697858527199862 and parameters: {'n_estimators': 5000, 'learning_rate': 0.06886861648683226, 'subsample': 0.29000000000000004, 'colsample_bytree': 0.4, 'max_depth': 15, 'gamma': 86.10000000000001, 'tree_method': 'gpu_hist', 'reg_lambda': 0.24438873520869117, 'reg_alpha': 8.555043594767746, 'random_state': 42, 'n_jobs': 4, 'min_child_weight': 0.11572842380801525}. Best is trial 1 with value: 0.5849926782536605.\u001b[0m\n"
     ]
    },
    {
     "name": "stdout",
     "output_type": "stream",
     "text": [
      "The ROC is 0.5698\n",
      "The average ROC is 0.5697858527199862\n"
     ]
    },
    {
     "name": "stderr",
     "output_type": "stream",
     "text": [
      "\u001b[32m[I 2022-08-20 16:46:19,849]\u001b[0m Trial 4 finished with value: 0.5859662346551955 and parameters: {'n_estimators': 2000, 'learning_rate': 0.04469797248627319, 'subsample': 0.6799999999999999, 'colsample_bytree': 0.5900000000000001, 'max_depth': 5, 'gamma': 21.900000000000002, 'tree_method': 'gpu_hist', 'reg_lambda': 6.353775943902091e-06, 'reg_alpha': 1.2197255120210858e-08, 'random_state': 42, 'n_jobs': 4, 'min_child_weight': 10.548761983057128}. Best is trial 4 with value: 0.5859662346551955.\u001b[0m\n"
     ]
    },
    {
     "name": "stdout",
     "output_type": "stream",
     "text": [
      "The ROC is 0.5860\n",
      "The average ROC is 0.5859662346551955\n"
     ]
    },
    {
     "name": "stderr",
     "output_type": "stream",
     "text": [
      "\u001b[32m[I 2022-08-20 16:46:22,462]\u001b[0m Trial 5 finished with value: 0.5 and parameters: {'n_estimators': 4600, 'learning_rate': 0.12674235501040393, 'subsample': 0.14, 'colsample_bytree': 0.49, 'max_depth': 4, 'gamma': 29.1, 'tree_method': 'gpu_hist', 'reg_lambda': 2.281590941066338e-06, 'reg_alpha': 0.2510063440928101, 'random_state': 42, 'n_jobs': 4, 'min_child_weight': 607.2873754279207}. Best is trial 4 with value: 0.5859662346551955.\u001b[0m\n"
     ]
    },
    {
     "name": "stdout",
     "output_type": "stream",
     "text": [
      "The ROC is 0.5000\n",
      "The average ROC is 0.5\n"
     ]
    },
    {
     "name": "stderr",
     "output_type": "stream",
     "text": [
      "\u001b[32m[I 2022-08-20 16:46:23,469]\u001b[0m Trial 6 finished with value: 0.5847744811797496 and parameters: {'n_estimators': 1300, 'learning_rate': 0.16393666171857751, 'subsample': 0.31, 'colsample_bytree': 0.64, 'max_depth': 14, 'gamma': 23.6, 'tree_method': 'gpu_hist', 'reg_lambda': 0.0005196361411046652, 'reg_alpha': 4.6984428611422195e-06, 'random_state': 42, 'n_jobs': 4, 'min_child_weight': 0.3075661433724609}. Best is trial 4 with value: 0.5859662346551955.\u001b[0m\n"
     ]
    },
    {
     "name": "stdout",
     "output_type": "stream",
     "text": [
      "The ROC is 0.5848\n",
      "The average ROC is 0.5847744811797496\n"
     ]
    },
    {
     "name": "stderr",
     "output_type": "stream",
     "text": [
      "\u001b[32m[I 2022-08-20 16:46:28,225]\u001b[0m Trial 7 finished with value: 0.5836037545152442 and parameters: {'n_estimators': 1000, 'learning_rate': 0.015904806867297203, 'subsample': 0.8, 'colsample_bytree': 0.66, 'max_depth': 19, 'gamma': 35.300000000000004, 'tree_method': 'gpu_hist', 'reg_lambda': 2.9660469935931137e-07, 'reg_alpha': 9.008060278901013e-07, 'random_state': 42, 'n_jobs': 4, 'min_child_weight': 0.39952848882671793}. Best is trial 4 with value: 0.5859662346551955.\u001b[0m\n"
     ]
    },
    {
     "name": "stdout",
     "output_type": "stream",
     "text": [
      "The ROC is 0.5836\n",
      "The average ROC is 0.5836037545152442\n"
     ]
    },
    {
     "name": "stderr",
     "output_type": "stream",
     "text": [
      "\u001b[32m[I 2022-08-20 16:46:30,708]\u001b[0m Trial 8 finished with value: 0.5829585726659487 and parameters: {'n_estimators': 4500, 'learning_rate': 0.19977576104423286, 'subsample': 0.31, 'colsample_bytree': 0.8800000000000001, 'max_depth': 5, 'gamma': 33.300000000000004, 'tree_method': 'gpu_hist', 'reg_lambda': 0.05658166338363368, 'reg_alpha': 0.02475735014573451, 'random_state': 42, 'n_jobs': 4, 'min_child_weight': 16.221555880724896}. Best is trial 4 with value: 0.5859662346551955.\u001b[0m\n"
     ]
    },
    {
     "name": "stdout",
     "output_type": "stream",
     "text": [
      "The ROC is 0.5830\n",
      "The average ROC is 0.5829585726659487\n"
     ]
    },
    {
     "name": "stderr",
     "output_type": "stream",
     "text": [
      "\u001b[32m[I 2022-08-20 16:46:33,583]\u001b[0m Trial 9 finished with value: 0.5838756979245183 and parameters: {'n_estimators': 4900, 'learning_rate': 0.01699096369300014, 'subsample': 0.38, 'colsample_bytree': 0.5700000000000001, 'max_depth': 8, 'gamma': 37.2, 'tree_method': 'gpu_hist', 'reg_lambda': 0.285266355780781, 'reg_alpha': 0.01637776019198998, 'random_state': 42, 'n_jobs': 4, 'min_child_weight': 32.3885490904579}. Best is trial 4 with value: 0.5859662346551955.\u001b[0m\n"
     ]
    },
    {
     "name": "stdout",
     "output_type": "stream",
     "text": [
      "The ROC is 0.5839\n",
      "The average ROC is 0.5838756979245183\n"
     ]
    },
    {
     "name": "stderr",
     "output_type": "stream",
     "text": [
      "\u001b[32m[I 2022-08-20 16:46:34,837]\u001b[0m Trial 10 finished with value: 0.5829296921654805 and parameters: {'n_estimators': 2200, 'learning_rate': 0.03619553503571434, 'subsample': 0.64, 'colsample_bytree': 0.05, 'max_depth': 2, 'gamma': 57.7, 'tree_method': 'gpu_hist', 'reg_lambda': 1.6472304718926524e-08, 'reg_alpha': 8.600481093129707e-05, 'random_state': 42, 'n_jobs': 4, 'min_child_weight': 79.15747901281718}. Best is trial 4 with value: 0.5859662346551955.\u001b[0m\n"
     ]
    },
    {
     "name": "stdout",
     "output_type": "stream",
     "text": [
      "The ROC is 0.5829\n",
      "The average ROC is 0.5829296921654805\n"
     ]
    },
    {
     "name": "stderr",
     "output_type": "stream",
     "text": [
      "\u001b[32m[I 2022-08-20 16:46:35,963]\u001b[0m Trial 11 finished with value: 0.5866953982899532 and parameters: {'n_estimators': 1900, 'learning_rate': 0.010056027116517085, 'subsample': 0.72, 'colsample_bytree': 0.92, 'max_depth': 1, 'gamma': 2.9000000000000004, 'tree_method': 'gpu_hist', 'reg_lambda': 73.83999054467714, 'reg_alpha': 1.7608520098201057e-08, 'random_state': 42, 'n_jobs': 4, 'min_child_weight': 2.889298878898304}. Best is trial 11 with value: 0.5866953982899532.\u001b[0m\n"
     ]
    },
    {
     "name": "stdout",
     "output_type": "stream",
     "text": [
      "The ROC is 0.5867\n",
      "The average ROC is 0.5866953982899532\n"
     ]
    },
    {
     "name": "stderr",
     "output_type": "stream",
     "text": [
      "\u001b[32m[I 2022-08-20 16:46:37,073]\u001b[0m Trial 12 finished with value: 0.576483870579226 and parameters: {'n_estimators': 2000, 'learning_rate': 0.04468502148416436, 'subsample': 0.6, 'colsample_bytree': 1.0, 'max_depth': 1, 'gamma': 0.4, 'tree_method': 'gpu_hist', 'reg_lambda': 51.50927170019273, 'reg_alpha': 1.6561769817640327e-08, 'random_state': 42, 'n_jobs': 4, 'min_child_weight': 3.5050224803039427}. Best is trial 11 with value: 0.5866953982899532.\u001b[0m\n"
     ]
    },
    {
     "name": "stdout",
     "output_type": "stream",
     "text": [
      "The ROC is 0.5765\n",
      "The average ROC is 0.576483870579226\n"
     ]
    },
    {
     "name": "stderr",
     "output_type": "stream",
     "text": [
      "\u001b[32m[I 2022-08-20 16:46:38,465]\u001b[0m Trial 13 finished with value: 0.5845323968456773 and parameters: {'n_estimators': 2200, 'learning_rate': 0.02638517546017921, 'subsample': 0.74, 'colsample_bytree': 0.8500000000000001, 'max_depth': 4, 'gamma': 6.5, 'tree_method': 'gpu_hist', 'reg_lambda': 19.811994252917103, 'reg_alpha': 1.006586147387355e-05, 'random_state': 42, 'n_jobs': 4, 'min_child_weight': 6.671100072236775}. Best is trial 11 with value: 0.5866953982899532.\u001b[0m\n"
     ]
    },
    {
     "name": "stdout",
     "output_type": "stream",
     "text": [
      "The ROC is 0.5845\n",
      "The average ROC is 0.5845323968456773\n"
     ]
    },
    {
     "name": "stderr",
     "output_type": "stream",
     "text": [
      "\u001b[32m[I 2022-08-20 16:46:39,955]\u001b[0m Trial 14 finished with value: 0.589091802353999 and parameters: {'n_estimators': 2700, 'learning_rate': 0.07202357961833306, 'subsample': 0.48, 'colsample_bytree': 0.81, 'max_depth': 1, 'gamma': 12.8, 'tree_method': 'gpu_hist', 'reg_lambda': 0.01019858374146423, 'reg_alpha': 1.724175431897858e-08, 'random_state': 42, 'n_jobs': 4, 'min_child_weight': 111.88396767915158}. Best is trial 14 with value: 0.589091802353999.\u001b[0m\n"
     ]
    },
    {
     "name": "stdout",
     "output_type": "stream",
     "text": [
      "The ROC is 0.5891\n",
      "The average ROC is 0.589091802353999\n"
     ]
    },
    {
     "name": "stderr",
     "output_type": "stream",
     "text": [
      "\u001b[32m[I 2022-08-20 16:46:41,552]\u001b[0m Trial 15 finished with value: 0.5837970857542604 and parameters: {'n_estimators': 2900, 'learning_rate': 0.0774339899602183, 'subsample': 0.49, 'colsample_bytree': 0.8, 'max_depth': 2, 'gamma': 51.300000000000004, 'tree_method': 'gpu_hist', 'reg_lambda': 0.009706931252562117, 'reg_alpha': 8.210155065647576e-07, 'random_state': 42, 'n_jobs': 4, 'min_child_weight': 120.67292863617078}. Best is trial 14 with value: 0.589091802353999.\u001b[0m\n"
     ]
    },
    {
     "name": "stdout",
     "output_type": "stream",
     "text": [
      "The ROC is 0.5838\n",
      "The average ROC is 0.5837970857542604\n"
     ]
    },
    {
     "name": "stderr",
     "output_type": "stream",
     "text": [
      "\u001b[32m[I 2022-08-20 16:46:43,539]\u001b[0m Trial 16 finished with value: 0.5817791893788007 and parameters: {'n_estimators': 2800, 'learning_rate': 0.11246924894283314, 'subsample': 0.44000000000000006, 'colsample_bytree': 0.9700000000000001, 'max_depth': 13, 'gamma': 10.0, 'tree_method': 'gpu_hist', 'reg_lambda': 3.788986493137477, 'reg_alpha': 3.322779688912687e-05, 'random_state': 42, 'n_jobs': 4, 'min_child_weight': 179.97121775857732}. Best is trial 14 with value: 0.589091802353999.\u001b[0m\n"
     ]
    },
    {
     "name": "stdout",
     "output_type": "stream",
     "text": [
      "The ROC is 0.5818\n",
      "The average ROC is 0.5817791893788007\n"
     ]
    },
    {
     "name": "stderr",
     "output_type": "stream",
     "text": [
      "\u001b[32m[I 2022-08-20 16:46:45,543]\u001b[0m Trial 17 finished with value: 0.5772620131339784 and parameters: {'n_estimators': 3700, 'learning_rate': 0.010036378890009532, 'subsample': 0.56, 'colsample_bytree': 0.76, 'max_depth': 1, 'gamma': 95.5, 'tree_method': 'gpu_hist', 'reg_lambda': 0.004018017692848727, 'reg_alpha': 3.722980395161766e-07, 'random_state': 42, 'n_jobs': 4, 'min_child_weight': 28.945882437260344}. Best is trial 14 with value: 0.589091802353999.\u001b[0m\n"
     ]
    },
    {
     "name": "stdout",
     "output_type": "stream",
     "text": [
      "The ROC is 0.5773\n",
      "The average ROC is 0.5772620131339784\n"
     ]
    },
    {
     "name": "stderr",
     "output_type": "stream",
     "text": [
      "\u001b[32m[I 2022-08-20 16:46:58,175]\u001b[0m Trial 18 finished with value: 0.5771556495879447 and parameters: {'n_estimators': 2600, 'learning_rate': 0.02486445716221551, 'subsample': 0.93, 'colsample_bytree': 0.92, 'max_depth': 19, 'gamma': 43.900000000000006, 'tree_method': 'gpu_hist', 'reg_lambda': 1.6172291503419214, 'reg_alpha': 40.90762799136778, 'random_state': 42, 'n_jobs': 4, 'min_child_weight': 1.094541107784321}. Best is trial 14 with value: 0.589091802353999.\u001b[0m\n"
     ]
    },
    {
     "name": "stdout",
     "output_type": "stream",
     "text": [
      "The ROC is 0.5772\n",
      "The average ROC is 0.5771556495879447\n"
     ]
    },
    {
     "name": "stderr",
     "output_type": "stream",
     "text": [
      "\u001b[32m[I 2022-08-20 16:47:04,666]\u001b[0m Trial 19 finished with value: 0.5321252535512226 and parameters: {'n_estimators': 3400, 'learning_rate': 0.07265094245266003, 'subsample': 0.49, 'colsample_bytree': 0.7400000000000001, 'max_depth': 11, 'gamma': 1.0, 'tree_method': 'gpu_hist', 'reg_lambda': 70.8301740741036, 'reg_alpha': 0.0010111027761762813, 'random_state': 42, 'n_jobs': 4, 'min_child_weight': 64.7080439499952}. Best is trial 14 with value: 0.589091802353999.\u001b[0m\n"
     ]
    },
    {
     "name": "stdout",
     "output_type": "stream",
     "text": [
      "The ROC is 0.5321\n",
      "The average ROC is 0.5321252535512226\n"
     ]
    },
    {
     "name": "stderr",
     "output_type": "stream",
     "text": [
      "\u001b[32m[I 2022-08-20 16:47:05,679]\u001b[0m Trial 20 finished with value: 0.5865381237661176 and parameters: {'n_estimators': 1700, 'learning_rate': 0.051110368498270185, 'subsample': 0.69, 'colsample_bytree': 0.8400000000000001, 'max_depth': 6, 'gamma': 16.3, 'tree_method': 'gpu_hist', 'reg_lambda': 0.016866501580511752, 'reg_alpha': 2.101796909925124e-06, 'random_state': 42, 'n_jobs': 4, 'min_child_weight': 300.3322553751792}. Best is trial 14 with value: 0.589091802353999.\u001b[0m\n"
     ]
    },
    {
     "name": "stdout",
     "output_type": "stream",
     "text": [
      "The ROC is 0.5865\n",
      "The average ROC is 0.5865381237661176\n"
     ]
    },
    {
     "name": "stderr",
     "output_type": "stream",
     "text": [
      "\u001b[32m[I 2022-08-20 16:47:06,664]\u001b[0m Trial 21 finished with value: 0.585547981777433 and parameters: {'n_estimators': 1700, 'learning_rate': 0.058890849372027536, 'subsample': 0.72, 'colsample_bytree': 0.8400000000000001, 'max_depth': 3, 'gamma': 15.3, 'tree_method': 'gpu_hist', 'reg_lambda': 0.03130444219985347, 'reg_alpha': 9.383940639291447e-08, 'random_state': 42, 'n_jobs': 4, 'min_child_weight': 361.12564117156575}. Best is trial 14 with value: 0.589091802353999.\u001b[0m\n"
     ]
    },
    {
     "name": "stdout",
     "output_type": "stream",
     "text": [
      "The ROC is 0.5855\n",
      "The average ROC is 0.585547981777433\n"
     ]
    },
    {
     "name": "stderr",
     "output_type": "stream",
     "text": [
      "\u001b[32m[I 2022-08-20 16:47:08,059]\u001b[0m Trial 22 finished with value: 0.5859780026436573 and parameters: {'n_estimators': 2500, 'learning_rate': 0.054590424367595196, 'subsample': 0.8, 'colsample_bytree': 0.7400000000000001, 'max_depth': 6, 'gamma': 14.600000000000001, 'tree_method': 'gpu_hist', 'reg_lambda': 0.002181502344655315, 'reg_alpha': 1.038899522386389e-08, 'random_state': 42, 'n_jobs': 4, 'min_child_weight': 252.14718048483914}. Best is trial 14 with value: 0.589091802353999.\u001b[0m\n"
     ]
    },
    {
     "name": "stdout",
     "output_type": "stream",
     "text": [
      "The ROC is 0.5860\n",
      "The average ROC is 0.5859780026436573\n"
     ]
    },
    {
     "name": "stderr",
     "output_type": "stream",
     "text": [
      "\u001b[32m[I 2022-08-20 16:47:08,737]\u001b[0m Trial 23 finished with value: 0.5763327936953693 and parameters: {'n_estimators': 1100, 'learning_rate': 0.034894866753858, 'subsample': 0.6, 'colsample_bytree': 0.92, 'max_depth': 3, 'gamma': 6.1000000000000005, 'tree_method': 'gpu_hist', 'reg_lambda': 2.2067352937996985, 'reg_alpha': 3.1591969321275395e-06, 'random_state': 42, 'n_jobs': 4, 'min_child_weight': 975.7972100395128}. Best is trial 14 with value: 0.589091802353999.\u001b[0m\n"
     ]
    },
    {
     "name": "stdout",
     "output_type": "stream",
     "text": [
      "The ROC is 0.5763\n",
      "The average ROC is 0.5763327936953693\n"
     ]
    },
    {
     "name": "stderr",
     "output_type": "stream",
     "text": [
      "\u001b[32m[I 2022-08-20 16:47:09,718]\u001b[0m Trial 24 finished with value: 0.5845020610289386 and parameters: {'n_estimators': 1700, 'learning_rate': 0.11005083488111853, 'subsample': 0.84, 'colsample_bytree': 0.9400000000000001, 'max_depth': 1, 'gamma': 19.5, 'tree_method': 'gpu_hist', 'reg_lambda': 6.234133712830785e-05, 'reg_alpha': 1.8362787261328054e-07, 'random_state': 42, 'n_jobs': 4, 'min_child_weight': 41.506980091301415}. Best is trial 14 with value: 0.589091802353999.\u001b[0m\n"
     ]
    },
    {
     "name": "stdout",
     "output_type": "stream",
     "text": [
      "The ROC is 0.5845\n",
      "The average ROC is 0.5845020610289386\n"
     ]
    },
    {
     "name": "stderr",
     "output_type": "stream",
     "text": [
      "\u001b[32m[I 2022-08-20 16:47:11,454]\u001b[0m Trial 25 finished with value: 0.581997787919269 and parameters: {'n_estimators': 2400, 'learning_rate': 0.018882310207066034, 'subsample': 0.53, 'colsample_bytree': 0.8200000000000001, 'max_depth': 10, 'gamma': 7.9, 'tree_method': 'gpu_hist', 'reg_lambda': 0.25432019039680975, 'reg_alpha': 1.5352389695391118e-06, 'random_state': 42, 'n_jobs': 4, 'min_child_weight': 6.661773031288935}. Best is trial 14 with value: 0.589091802353999.\u001b[0m\n"
     ]
    },
    {
     "name": "stdout",
     "output_type": "stream",
     "text": [
      "The ROC is 0.5820\n",
      "The average ROC is 0.581997787919269\n"
     ]
    },
    {
     "name": "stderr",
     "output_type": "stream",
     "text": [
      "\u001b[32m[I 2022-08-20 16:47:12,425]\u001b[0m Trial 26 finished with value: 0.5818233005167879 and parameters: {'n_estimators': 1700, 'learning_rate': 0.24311514838109283, 'subsample': 0.69, 'colsample_bytree': 0.7100000000000001, 'max_depth': 6, 'gamma': 68.3, 'tree_method': 'gpu_hist', 'reg_lambda': 7.13798722241903, 'reg_alpha': 6.281973818630339e-08, 'random_state': 42, 'n_jobs': 4, 'min_child_weight': 106.58065689763818}. Best is trial 14 with value: 0.589091802353999.\u001b[0m\n"
     ]
    },
    {
     "name": "stdout",
     "output_type": "stream",
     "text": [
      "The ROC is 0.5818\n",
      "The average ROC is 0.5818233005167879\n"
     ]
    },
    {
     "name": "stderr",
     "output_type": "stream",
     "text": [
      "\u001b[32m[I 2022-08-20 16:47:14,108]\u001b[0m Trial 27 finished with value: 0.5837024149217089 and parameters: {'n_estimators': 3200, 'learning_rate': 0.03569910032234025, 'subsample': 0.78, 'colsample_bytree': 1.0, 'max_depth': 3, 'gamma': 43.300000000000004, 'tree_method': 'gpu_hist', 'reg_lambda': 0.027665945701964772, 'reg_alpha': 2.554175378569576e-05, 'random_state': 42, 'n_jobs': 4, 'min_child_weight': 16.592917623894373}. Best is trial 14 with value: 0.589091802353999.\u001b[0m\n"
     ]
    },
    {
     "name": "stdout",
     "output_type": "stream",
     "text": [
      "The ROC is 0.5837\n",
      "The average ROC is 0.5837024149217089\n"
     ]
    },
    {
     "name": "stderr",
     "output_type": "stream",
     "text": [
      "\u001b[32m[I 2022-08-20 16:47:15,809]\u001b[0m Trial 28 finished with value: 0.5658880139148308 and parameters: {'n_estimators': 2000, 'learning_rate': 0.09558204896085046, 'subsample': 0.42000000000000004, 'colsample_bytree': 0.8800000000000001, 'max_depth': 7, 'gamma': 0.5, 'tree_method': 'gpu_hist', 'reg_lambda': 0.00047020917768232303, 'reg_alpha': 4.603948424123679e-08, 'random_state': 42, 'n_jobs': 4, 'min_child_weight': 383.0614909439559}. Best is trial 14 with value: 0.589091802353999.\u001b[0m\n"
     ]
    },
    {
     "name": "stdout",
     "output_type": "stream",
     "text": [
      "The ROC is 0.5659\n",
      "The average ROC is 0.5658880139148308\n"
     ]
    },
    {
     "name": "stderr",
     "output_type": "stream",
     "text": [
      "\u001b[32m[I 2022-08-20 16:47:16,679]\u001b[0m Trial 29 finished with value: 0.5837817547501022 and parameters: {'n_estimators': 1300, 'learning_rate': 0.021067833906801125, 'subsample': 0.13, 'colsample_bytree': 0.4, 'max_depth': 10, 'gamma': 29.6, 'tree_method': 'gpu_hist', 'reg_lambda': 1.215425995483853e-05, 'reg_alpha': 0.0020954861934568245, 'random_state': 42, 'n_jobs': 4, 'min_child_weight': 0.9495462424808992}. Best is trial 14 with value: 0.589091802353999.\u001b[0m\n"
     ]
    },
    {
     "name": "stdout",
     "output_type": "stream",
     "text": [
      "The ROC is 0.5838\n",
      "The average ROC is 0.5837817547501022\n"
     ]
    },
    {
     "name": "stderr",
     "output_type": "stream",
     "text": [
      "\u001b[32m[I 2022-08-20 16:47:18,488]\u001b[0m Trial 30 finished with value: 0.5803660270969853 and parameters: {'n_estimators': 3100, 'learning_rate': 0.14391787811152276, 'subsample': 0.65, 'colsample_bytree': 0.5, 'max_depth': 4, 'gamma': 74.10000000000001, 'tree_method': 'gpu_hist', 'reg_lambda': 0.007404139113575026, 'reg_alpha': 3.7724741029519595e-07, 'random_state': 42, 'n_jobs': 4, 'min_child_weight': 188.914555319584}. Best is trial 14 with value: 0.589091802353999.\u001b[0m\n"
     ]
    },
    {
     "name": "stdout",
     "output_type": "stream",
     "text": [
      "The ROC is 0.5804\n",
      "The average ROC is 0.5803660270969853\n"
     ]
    },
    {
     "name": "stderr",
     "output_type": "stream",
     "text": [
      "\u001b[32m[I 2022-08-20 16:47:19,931]\u001b[0m Trial 31 finished with value: 0.5866577858918629 and parameters: {'n_estimators': 2500, 'learning_rate': 0.0595573415270696, 'subsample': 0.86, 'colsample_bytree': 0.76, 'max_depth': 9, 'gamma': 15.5, 'tree_method': 'gpu_hist', 'reg_lambda': 0.002495406364406242, 'reg_alpha': 1.1653202910443702e-08, 'random_state': 42, 'n_jobs': 4, 'min_child_weight': 394.096021000348}. Best is trial 14 with value: 0.589091802353999.\u001b[0m\n"
     ]
    },
    {
     "name": "stdout",
     "output_type": "stream",
     "text": [
      "The ROC is 0.5867\n",
      "The average ROC is 0.5866577858918629\n"
     ]
    },
    {
     "name": "stderr",
     "output_type": "stream",
     "text": [
      "\u001b[32m[I 2022-08-20 16:47:21,579]\u001b[0m Trial 32 finished with value: 0.5863721424363199 and parameters: {'n_estimators': 2700, 'learning_rate': 0.060957628223466266, 'subsample': 0.88, 'colsample_bytree': 0.78, 'max_depth': 12, 'gamma': 14.3, 'tree_method': 'gpu_hist', 'reg_lambda': 0.001450388608605151, 'reg_alpha': 0.0001892458230217842, 'random_state': 42, 'n_jobs': 4, 'min_child_weight': 667.9685703101823}. Best is trial 14 with value: 0.589091802353999.\u001b[0m\n"
     ]
    },
    {
     "name": "stdout",
     "output_type": "stream",
     "text": [
      "The ROC is 0.5864\n",
      "The average ROC is 0.5863721424363199\n"
     ]
    },
    {
     "name": "stderr",
     "output_type": "stream",
     "text": [
      "\u001b[32m[I 2022-08-20 16:47:22,870]\u001b[0m Trial 33 finished with value: 0.5825830759765422 and parameters: {'n_estimators': 2300, 'learning_rate': 0.0467953354606732, 'subsample': 1.0, 'colsample_bytree': 0.6900000000000001, 'max_depth': 9, 'gamma': 27.1, 'tree_method': 'gpu_hist', 'reg_lambda': 0.00015955497621810658, 'reg_alpha': 3.056277450250837e-08, 'random_state': 42, 'n_jobs': 4, 'min_child_weight': 392.8596171610889}. Best is trial 14 with value: 0.589091802353999.\u001b[0m\n"
     ]
    },
    {
     "name": "stdout",
     "output_type": "stream",
     "text": [
      "The ROC is 0.5826\n",
      "The average ROC is 0.5825830759765422\n"
     ]
    },
    {
     "name": "stderr",
     "output_type": "stream",
     "text": [
      "\u001b[32m[I 2022-08-20 16:47:23,793]\u001b[0m Trial 34 finished with value: 0.5869018273754023 and parameters: {'n_estimators': 1500, 'learning_rate': 0.09305604712582927, 'subsample': 0.91, 'colsample_bytree': 0.89, 'max_depth': 8, 'gamma': 9.8, 'tree_method': 'gpu_hist', 'reg_lambda': 0.07505784421844025, 'reg_alpha': 2.443298769803554e-07, 'random_state': 42, 'n_jobs': 4, 'min_child_weight': 2.657012841792942}. Best is trial 14 with value: 0.589091802353999.\u001b[0m\n"
     ]
    },
    {
     "name": "stdout",
     "output_type": "stream",
     "text": [
      "The ROC is 0.5869\n",
      "The average ROC is 0.5869018273754023\n"
     ]
    },
    {
     "name": "stderr",
     "output_type": "stream",
     "text": [
      "\u001b[32m[I 2022-08-20 16:47:28,258]\u001b[0m Trial 35 finished with value: 0.5877513055190612 and parameters: {'n_estimators': 3900, 'learning_rate': 0.08699980262227443, 'subsample': 0.91, 'colsample_bytree': 0.3, 'max_depth': 16, 'gamma': 10.0, 'tree_method': 'gpu_hist', 'reg_lambda': 0.6787285876831695, 'reg_alpha': 1.6030178554244015e-07, 'random_state': 42, 'n_jobs': 4, 'min_child_weight': 2.8472989609496215}. Best is trial 14 with value: 0.589091802353999.\u001b[0m\n"
     ]
    },
    {
     "name": "stdout",
     "output_type": "stream",
     "text": [
      "The ROC is 0.5878\n",
      "The average ROC is 0.5877513055190612\n"
     ]
    },
    {
     "name": "stderr",
     "output_type": "stream",
     "text": [
      "\u001b[32m[I 2022-08-20 16:47:32,809]\u001b[0m Trial 36 finished with value: 0.5877740134712103 and parameters: {'n_estimators': 4100, 'learning_rate': 0.08998324782343521, 'subsample': 0.96, 'colsample_bytree': 0.29, 'max_depth': 16, 'gamma': 9.1, 'tree_method': 'gpu_hist', 'reg_lambda': 0.7416325124479994, 'reg_alpha': 1.596775200253793e-07, 'random_state': 42, 'n_jobs': 4, 'min_child_weight': 2.8228238568178674}. Best is trial 14 with value: 0.589091802353999.\u001b[0m\n"
     ]
    },
    {
     "name": "stdout",
     "output_type": "stream",
     "text": [
      "The ROC is 0.5878\n",
      "The average ROC is 0.5877740134712103\n"
     ]
    },
    {
     "name": "stderr",
     "output_type": "stream",
     "text": [
      "\u001b[32m[I 2022-08-20 16:47:37,407]\u001b[0m Trial 37 finished with value: 0.5874545213665521 and parameters: {'n_estimators': 4000, 'learning_rate': 0.08592301501792782, 'subsample': 0.94, 'colsample_bytree': 0.31, 'max_depth': 16, 'gamma': 10.100000000000001, 'tree_method': 'gpu_hist', 'reg_lambda': 0.6828294963053123, 'reg_alpha': 4.479464262929966e-07, 'random_state': 42, 'n_jobs': 4, 'min_child_weight': 1.2752798743411549}. Best is trial 14 with value: 0.589091802353999.\u001b[0m\n"
     ]
    },
    {
     "name": "stdout",
     "output_type": "stream",
     "text": [
      "The ROC is 0.5875\n",
      "The average ROC is 0.5874545213665521\n"
     ]
    },
    {
     "name": "stderr",
     "output_type": "stream",
     "text": [
      "\u001b[32m[I 2022-08-20 16:47:43,790]\u001b[0m Trial 38 finished with value: 0.5831956637597142 and parameters: {'n_estimators': 4000, 'learning_rate': 0.08245342703885924, 'subsample': 0.96, 'colsample_bytree': 0.28, 'max_depth': 17, 'gamma': 23.8, 'tree_method': 'gpu_hist', 'reg_lambda': 0.7828904787926969, 'reg_alpha': 9.095326426386504e-06, 'random_state': 42, 'n_jobs': 4, 'min_child_weight': 1.379489466050484}. Best is trial 14 with value: 0.589091802353999.\u001b[0m\n"
     ]
    },
    {
     "name": "stdout",
     "output_type": "stream",
     "text": [
      "The ROC is 0.5832\n",
      "The average ROC is 0.5831956637597142\n"
     ]
    },
    {
     "name": "stderr",
     "output_type": "stream",
     "text": [
      "\u001b[32m[I 2022-08-20 16:47:48,653]\u001b[0m Trial 39 finished with value: 0.5881453198534244 and parameters: {'n_estimators': 4100, 'learning_rate': 0.16045577736737998, 'subsample': 0.23, 'colsample_bytree': 0.31, 'max_depth': 16, 'gamma': 20.400000000000002, 'tree_method': 'gpu_hist', 'reg_lambda': 0.5384274789933815, 'reg_alpha': 0.7995407743968908, 'random_state': 42, 'n_jobs': 4, 'min_child_weight': 0.47836304846712857}. Best is trial 14 with value: 0.589091802353999.\u001b[0m\n"
     ]
    },
    {
     "name": "stdout",
     "output_type": "stream",
     "text": [
      "The ROC is 0.5881\n",
      "The average ROC is 0.5881453198534244\n"
     ]
    },
    {
     "name": "stderr",
     "output_type": "stream",
     "text": [
      "\u001b[32m[I 2022-08-20 16:47:55,486]\u001b[0m Trial 40 finished with value: 0.5821411365718971 and parameters: {'n_estimators': 4300, 'learning_rate': 0.14998048203495187, 'subsample': 0.2, 'colsample_bytree': 0.15000000000000002, 'max_depth': 17, 'gamma': 22.6, 'tree_method': 'gpu_hist', 'reg_lambda': 11.512023583802609, 'reg_alpha': 3.7896674421019085, 'random_state': 42, 'n_jobs': 4, 'min_child_weight': 0.5676522550091337}. Best is trial 14 with value: 0.589091802353999.\u001b[0m\n"
     ]
    },
    {
     "name": "stdout",
     "output_type": "stream",
     "text": [
      "The ROC is 0.5821\n",
      "The average ROC is 0.5821411365718971\n"
     ]
    },
    {
     "name": "stderr",
     "output_type": "stream",
     "text": [
      "\u001b[32m[I 2022-08-20 16:48:00,037]\u001b[0m Trial 41 finished with value: 0.5863914881060515 and parameters: {'n_estimators': 4000, 'learning_rate': 0.1112825426729048, 'subsample': 0.95, 'colsample_bytree': 0.32, 'max_depth': 16, 'gamma': 11.3, 'tree_method': 'gpu_hist', 'reg_lambda': 0.6058072973711851, 'reg_alpha': 0.3523252110243227, 'random_state': 42, 'n_jobs': 4, 'min_child_weight': 0.11844895650498603}. Best is trial 14 with value: 0.589091802353999.\u001b[0m\n"
     ]
    },
    {
     "name": "stdout",
     "output_type": "stream",
     "text": [
      "The ROC is 0.5864\n",
      "The average ROC is 0.5863914881060515\n"
     ]
    },
    {
     "name": "stderr",
     "output_type": "stream",
     "text": [
      "\u001b[32m[I 2022-08-20 16:48:03,316]\u001b[0m Trial 42 finished with value: 0.5866394438885247 and parameters: {'n_estimators': 3900, 'learning_rate': 0.18455003926200084, 'subsample': 0.23, 'colsample_bytree': 0.33999999999999997, 'max_depth': 15, 'gamma': 18.8, 'tree_method': 'gpu_hist', 'reg_lambda': 0.1252082136692619, 'reg_alpha': 0.00910007798593504, 'random_state': 42, 'n_jobs': 4, 'min_child_weight': 0.2629171858139085}. Best is trial 14 with value: 0.589091802353999.\u001b[0m\n"
     ]
    },
    {
     "name": "stdout",
     "output_type": "stream",
     "text": [
      "The ROC is 0.5866\n",
      "The average ROC is 0.5866394438885247\n"
     ]
    },
    {
     "name": "stderr",
     "output_type": "stream",
     "text": [
      "\u001b[32m[I 2022-08-20 16:48:14,585]\u001b[0m Trial 43 finished with value: 0.5822197236504952 and parameters: {'n_estimators': 4300, 'learning_rate': 0.13185108580645116, 'subsample': 0.33, 'colsample_bytree': 0.2, 'max_depth': 18, 'gamma': 26.3, 'tree_method': 'gpu_hist', 'reg_lambda': 0.7853438109581076, 'reg_alpha': 5.104232632813383e-07, 'random_state': 42, 'n_jobs': 4, 'min_child_weight': 5.408354860617551}. Best is trial 14 with value: 0.589091802353999.\u001b[0m\n"
     ]
    },
    {
     "name": "stdout",
     "output_type": "stream",
     "text": [
      "The ROC is 0.5822\n",
      "The average ROC is 0.5822197236504952\n"
     ]
    },
    {
     "name": "stderr",
     "output_type": "stream",
     "text": [
      "\u001b[32m[I 2022-08-20 16:49:03,992]\u001b[0m Trial 44 finished with value: 0.5829695628129556 and parameters: {'n_estimators': 4800, 'learning_rate': 0.09503378097627185, 'subsample': 0.89, 'colsample_bytree': 0.46, 'max_depth': 20, 'gamma': 32.4, 'tree_method': 'gpu_hist', 'reg_lambda': 0.12186472260854235, 'reg_alpha': 0.39409570911345987, 'random_state': 42, 'n_jobs': 4, 'min_child_weight': 0.6620296023109208}. Best is trial 14 with value: 0.589091802353999.\u001b[0m\n"
     ]
    },
    {
     "name": "stdout",
     "output_type": "stream",
     "text": [
      "The ROC is 0.5830\n",
      "The average ROC is 0.5829695628129556\n"
     ]
    },
    {
     "name": "stderr",
     "output_type": "stream",
     "text": [
      "\u001b[32m[I 2022-08-20 16:49:06,676]\u001b[0m Trial 45 finished with value: 0.5888286912089864 and parameters: {'n_estimators': 3500, 'learning_rate': 0.06468699030404264, 'subsample': 0.99, 'colsample_bytree': 0.19, 'max_depth': 14, 'gamma': 5.4, 'tree_method': 'gpu_hist', 'reg_lambda': 3.971455308758279, 'reg_alpha': 1.0923901722642057e-07, 'random_state': 42, 'n_jobs': 4, 'min_child_weight': 1.5120525938147076}. Best is trial 14 with value: 0.589091802353999.\u001b[0m\n"
     ]
    },
    {
     "name": "stdout",
     "output_type": "stream",
     "text": [
      "The ROC is 0.5888\n",
      "The average ROC is 0.5888286912089864\n"
     ]
    },
    {
     "name": "stderr",
     "output_type": "stream",
     "text": [
      "\u001b[32m[I 2022-08-20 16:49:09,106]\u001b[0m Trial 46 finished with value: 0.586503296542269 and parameters: {'n_estimators': 3600, 'learning_rate': 0.17485177601954408, 'subsample': 1.0, 'colsample_bytree': 0.21000000000000002, 'max_depth': 14, 'gamma': 4.9, 'tree_method': 'gpu_hist', 'reg_lambda': 22.175626901377328, 'reg_alpha': 0.0762708339217669, 'random_state': 42, 'n_jobs': 4, 'min_child_weight': 2.1329074557282}. Best is trial 14 with value: 0.589091802353999.\u001b[0m\n"
     ]
    },
    {
     "name": "stdout",
     "output_type": "stream",
     "text": [
      "The ROC is 0.5865\n",
      "The average ROC is 0.586503296542269\n"
     ]
    },
    {
     "name": "stderr",
     "output_type": "stream",
     "text": [
      "\u001b[32m[I 2022-08-20 16:49:12,177]\u001b[0m Trial 47 finished with value: 0.5756255852629657 and parameters: {'n_estimators': 4200, 'learning_rate': 0.06966443024632339, 'subsample': 0.18, 'colsample_bytree': 0.13, 'max_depth': 14, 'gamma': 40.2, 'tree_method': 'gpu_hist', 'reg_lambda': 4.183799242135671, 'reg_alpha': 9.665318015172426e-08, 'random_state': 42, 'n_jobs': 4, 'min_child_weight': 4.615773692445503}. Best is trial 14 with value: 0.589091802353999.\u001b[0m\n"
     ]
    },
    {
     "name": "stdout",
     "output_type": "stream",
     "text": [
      "The ROC is 0.5756\n",
      "The average ROC is 0.5756255852629657\n"
     ]
    },
    {
     "name": "stderr",
     "output_type": "stream",
     "text": [
      "\u001b[32m[I 2022-08-20 16:49:16,491]\u001b[0m Trial 48 finished with value: 0.581250156822874 and parameters: {'n_estimators': 4600, 'learning_rate': 0.21673270605082062, 'subsample': 0.26, 'colsample_bytree': 0.24, 'max_depth': 15, 'gamma': 19.200000000000003, 'tree_method': 'gpu_hist', 'reg_lambda': 0.2592442660493794, 'reg_alpha': 6.839729271623993, 'random_state': 42, 'n_jobs': 4, 'min_child_weight': 12.329955173559611}. Best is trial 14 with value: 0.589091802353999.\u001b[0m\n"
     ]
    },
    {
     "name": "stdout",
     "output_type": "stream",
     "text": [
      "The ROC is 0.5813\n",
      "The average ROC is 0.581250156822874\n"
     ]
    },
    {
     "name": "stderr",
     "output_type": "stream",
     "text": [
      "\u001b[32m[I 2022-08-20 16:49:18,915]\u001b[0m Trial 49 finished with value: 0.5813604346678416 and parameters: {'n_estimators': 3400, 'learning_rate': 0.04074267771222069, 'subsample': 0.83, 'colsample_bytree': 0.6200000000000001, 'max_depth': 13, 'gamma': 6.1000000000000005, 'tree_method': 'gpu_hist', 'reg_lambda': 1.8064842200164095, 'reg_alpha': 3.3433718428559095e-08, 'random_state': 42, 'n_jobs': 4, 'min_child_weight': 0.2907644014914249}. Best is trial 14 with value: 0.589091802353999.\u001b[0m\n"
     ]
    },
    {
     "name": "stdout",
     "output_type": "stream",
     "text": [
      "The ROC is 0.5814\n",
      "The average ROC is 0.5813604346678416\n"
     ]
    }
   ],
   "source": [
    "study = optuna.create_study(direction=\"maximize\")\n",
    "study.optimize(run, n_trials=50)"
   ]
  },
  {
   "cell_type": "code",
   "execution_count": 16,
   "id": "c00fdde7",
   "metadata": {
    "execution": {
     "iopub.execute_input": "2022-08-20T16:49:18.952052Z",
     "iopub.status.busy": "2022-08-20T16:49:18.951602Z",
     "iopub.status.idle": "2022-08-20T16:49:18.958680Z",
     "shell.execute_reply": "2022-08-20T16:49:18.957822Z"
    },
    "papermill": {
     "duration": 0.022657,
     "end_time": "2022-08-20T16:49:18.960745",
     "exception": false,
     "start_time": "2022-08-20T16:49:18.938088",
     "status": "completed"
    },
    "tags": []
   },
   "outputs": [],
   "source": [
    "from joblib import dump, load"
   ]
  },
  {
   "cell_type": "code",
   "execution_count": 17,
   "id": "63433d70",
   "metadata": {
    "execution": {
     "iopub.execute_input": "2022-08-20T16:49:18.988590Z",
     "iopub.status.busy": "2022-08-20T16:49:18.986852Z",
     "iopub.status.idle": "2022-08-20T16:49:19.025063Z",
     "shell.execute_reply": "2022-08-20T16:49:19.024081Z"
    },
    "papermill": {
     "duration": 0.054109,
     "end_time": "2022-08-20T16:49:19.027276",
     "exception": false,
     "start_time": "2022-08-20T16:49:18.973167",
     "status": "completed"
    },
    "tags": []
   },
   "outputs": [
    {
     "data": {
      "text/plain": [
       "['study.pkl']"
      ]
     },
     "execution_count": 17,
     "metadata": {},
     "output_type": "execute_result"
    }
   ],
   "source": [
    "dump(study, \"study.pkl\")"
   ]
  },
  {
   "cell_type": "code",
   "execution_count": 18,
   "id": "cdff1315",
   "metadata": {
    "execution": {
     "iopub.execute_input": "2022-08-20T16:49:19.055178Z",
     "iopub.status.busy": "2022-08-20T16:49:19.054246Z",
     "iopub.status.idle": "2022-08-20T16:49:19.061749Z",
     "shell.execute_reply": "2022-08-20T16:49:19.060731Z"
    },
    "papermill": {
     "duration": 0.023554,
     "end_time": "2022-08-20T16:49:19.063801",
     "exception": false,
     "start_time": "2022-08-20T16:49:19.040247",
     "status": "completed"
    },
    "tags": []
   },
   "outputs": [
    {
     "data": {
      "text/plain": [
       "['xgb_params.pkl']"
      ]
     },
     "execution_count": 18,
     "metadata": {},
     "output_type": "execute_result"
    }
   ],
   "source": [
    "dump(study.best_trial.params, \"xgb_params.pkl\")"
   ]
  },
  {
   "cell_type": "code",
   "execution_count": null,
   "id": "abb3de69",
   "metadata": {
    "papermill": {
     "duration": 0.013089,
     "end_time": "2022-08-20T16:49:19.089596",
     "exception": false,
     "start_time": "2022-08-20T16:49:19.076507",
     "status": "completed"
    },
    "tags": []
   },
   "outputs": [],
   "source": []
  },
  {
   "cell_type": "markdown",
   "id": "7e0c3dbe",
   "metadata": {
    "papermill": {
     "duration": 0.012475,
     "end_time": "2022-08-20T16:49:19.114684",
     "exception": false,
     "start_time": "2022-08-20T16:49:19.102209",
     "status": "completed"
    },
    "tags": []
   },
   "source": [
    "## Ideas"
   ]
  },
  {
   "cell_type": "code",
   "execution_count": 19,
   "id": "d527c2be",
   "metadata": {
    "execution": {
     "iopub.execute_input": "2022-08-20T16:49:19.142436Z",
     "iopub.status.busy": "2022-08-20T16:49:19.141287Z",
     "iopub.status.idle": "2022-08-20T16:49:19.146251Z",
     "shell.execute_reply": "2022-08-20T16:49:19.145365Z"
    },
    "papermill": {
     "duration": 0.020809,
     "end_time": "2022-08-20T16:49:19.148193",
     "exception": false,
     "start_time": "2022-08-20T16:49:19.127384",
     "status": "completed"
    },
    "tags": []
   },
   "outputs": [],
   "source": [
    "# Change fit_transform in the feature engineering process to transform for the test set\n",
    "# Understand why he is doing the aggregations\n",
    "# Understand when the to_frame method is required when using an encoder"
   ]
  }
 ],
 "metadata": {
  "kernelspec": {
   "display_name": "Python 3",
   "language": "python",
   "name": "python3"
  },
  "language_info": {
   "codemirror_mode": {
    "name": "ipython",
    "version": 3
   },
   "file_extension": ".py",
   "mimetype": "text/x-python",
   "name": "python",
   "nbconvert_exporter": "python",
   "pygments_lexer": "ipython3",
   "version": "3.7.12"
  },
  "papermill": {
   "default_parameters": {},
   "duration": 245.284233,
   "end_time": "2022-08-20T16:49:20.487512",
   "environment_variables": {},
   "exception": null,
   "input_path": "__notebook__.ipynb",
   "output_path": "__notebook__.ipynb",
   "parameters": {},
   "start_time": "2022-08-20T16:45:15.203279",
   "version": "2.3.4"
  },
  "widgets": {
   "application/vnd.jupyter.widget-state+json": {
    "state": {
     "0208f65a8d7d4074aa798947c32541f3": {
      "model_module": "@jupyter-widgets/controls",
      "model_module_version": "1.5.0",
      "model_name": "HBoxModel",
      "state": {
       "_dom_classes": [],
       "_model_module": "@jupyter-widgets/controls",
       "_model_module_version": "1.5.0",
       "_model_name": "HBoxModel",
       "_view_count": null,
       "_view_module": "@jupyter-widgets/controls",
       "_view_module_version": "1.5.0",
       "_view_name": "HBoxView",
       "box_style": "",
       "children": [
        "IPY_MODEL_5c7ff7ffae47431398f87fe2c761dc97",
        "IPY_MODEL_ee108c588c714ab99a25fb8b254ce894",
        "IPY_MODEL_9de0f814d3a14fe9ad74615daf420045"
       ],
       "layout": "IPY_MODEL_b86142959a22440d9baf27fa2ab93e35"
      }
     },
     "0a34fa16ef07429eb42ec53ea2a91f9d": {
      "model_module": "@jupyter-widgets/controls",
      "model_module_version": "1.5.0",
      "model_name": "HTMLModel",
      "state": {
       "_dom_classes": [],
       "_model_module": "@jupyter-widgets/controls",
       "_model_module_version": "1.5.0",
       "_model_name": "HTMLModel",
       "_view_count": null,
       "_view_module": "@jupyter-widgets/controls",
       "_view_module_version": "1.5.0",
       "_view_name": "HTMLView",
       "description": "",
       "description_tooltip": null,
       "layout": "IPY_MODEL_e9038ea65763458c8f27a64551359b8f",
       "placeholder": "​",
       "style": "IPY_MODEL_d76586481f484963b1a86a8610cfc73b",
       "value": " 16/16 [00:02&lt;00:00,  5.85it/s]"
      }
     },
     "0d2d189ffc6e4c50b0de05e4afd30040": {
      "model_module": "@jupyter-widgets/controls",
      "model_module_version": "1.5.0",
      "model_name": "FloatProgressModel",
      "state": {
       "_dom_classes": [],
       "_model_module": "@jupyter-widgets/controls",
       "_model_module_version": "1.5.0",
       "_model_name": "FloatProgressModel",
       "_view_count": null,
       "_view_module": "@jupyter-widgets/controls",
       "_view_module_version": "1.5.0",
       "_view_name": "ProgressView",
       "bar_style": "success",
       "description": "",
       "description_tooltip": null,
       "layout": "IPY_MODEL_895c2a54b5f74607892e0ae82be1101c",
       "max": 16.0,
       "min": 0.0,
       "orientation": "horizontal",
       "style": "IPY_MODEL_315cd88fc3cd4bd8964e1287acf1f60a",
       "value": 16.0
      }
     },
     "12de3103f1e54ecb9dd4b623a878465e": {
      "model_module": "@jupyter-widgets/base",
      "model_module_version": "1.2.0",
      "model_name": "LayoutModel",
      "state": {
       "_model_module": "@jupyter-widgets/base",
       "_model_module_version": "1.2.0",
       "_model_name": "LayoutModel",
       "_view_count": null,
       "_view_module": "@jupyter-widgets/base",
       "_view_module_version": "1.2.0",
       "_view_name": "LayoutView",
       "align_content": null,
       "align_items": null,
       "align_self": null,
       "border": null,
       "bottom": null,
       "display": null,
       "flex": null,
       "flex_flow": null,
       "grid_area": null,
       "grid_auto_columns": null,
       "grid_auto_flow": null,
       "grid_auto_rows": null,
       "grid_column": null,
       "grid_gap": null,
       "grid_row": null,
       "grid_template_areas": null,
       "grid_template_columns": null,
       "grid_template_rows": null,
       "height": null,
       "justify_content": null,
       "justify_items": null,
       "left": null,
       "margin": null,
       "max_height": null,
       "max_width": null,
       "min_height": null,
       "min_width": null,
       "object_fit": null,
       "object_position": null,
       "order": null,
       "overflow": null,
       "overflow_x": null,
       "overflow_y": null,
       "padding": null,
       "right": null,
       "top": null,
       "visibility": null,
       "width": null
      }
     },
     "147a033f81464402b7600dd99e6a58cc": {
      "model_module": "@jupyter-widgets/controls",
      "model_module_version": "1.5.0",
      "model_name": "DescriptionStyleModel",
      "state": {
       "_model_module": "@jupyter-widgets/controls",
       "_model_module_version": "1.5.0",
       "_model_name": "DescriptionStyleModel",
       "_view_count": null,
       "_view_module": "@jupyter-widgets/base",
       "_view_module_version": "1.2.0",
       "_view_name": "StyleView",
       "description_width": ""
      }
     },
     "162e116a5e824fb8bfcbe2564980424d": {
      "model_module": "@jupyter-widgets/base",
      "model_module_version": "1.2.0",
      "model_name": "LayoutModel",
      "state": {
       "_model_module": "@jupyter-widgets/base",
       "_model_module_version": "1.2.0",
       "_model_name": "LayoutModel",
       "_view_count": null,
       "_view_module": "@jupyter-widgets/base",
       "_view_module_version": "1.2.0",
       "_view_name": "LayoutView",
       "align_content": null,
       "align_items": null,
       "align_self": null,
       "border": null,
       "bottom": null,
       "display": null,
       "flex": null,
       "flex_flow": null,
       "grid_area": null,
       "grid_auto_columns": null,
       "grid_auto_flow": null,
       "grid_auto_rows": null,
       "grid_column": null,
       "grid_gap": null,
       "grid_row": null,
       "grid_template_areas": null,
       "grid_template_columns": null,
       "grid_template_rows": null,
       "height": null,
       "justify_content": null,
       "justify_items": null,
       "left": null,
       "margin": null,
       "max_height": null,
       "max_width": null,
       "min_height": null,
       "min_width": null,
       "object_fit": null,
       "object_position": null,
       "order": null,
       "overflow": null,
       "overflow_x": null,
       "overflow_y": null,
       "padding": null,
       "right": null,
       "top": null,
       "visibility": null,
       "width": null
      }
     },
     "1779868a8b4d466fbe01c586c4696593": {
      "model_module": "@jupyter-widgets/base",
      "model_module_version": "1.2.0",
      "model_name": "LayoutModel",
      "state": {
       "_model_module": "@jupyter-widgets/base",
       "_model_module_version": "1.2.0",
       "_model_name": "LayoutModel",
       "_view_count": null,
       "_view_module": "@jupyter-widgets/base",
       "_view_module_version": "1.2.0",
       "_view_name": "LayoutView",
       "align_content": null,
       "align_items": null,
       "align_self": null,
       "border": null,
       "bottom": null,
       "display": null,
       "flex": null,
       "flex_flow": null,
       "grid_area": null,
       "grid_auto_columns": null,
       "grid_auto_flow": null,
       "grid_auto_rows": null,
       "grid_column": null,
       "grid_gap": null,
       "grid_row": null,
       "grid_template_areas": null,
       "grid_template_columns": null,
       "grid_template_rows": null,
       "height": null,
       "justify_content": null,
       "justify_items": null,
       "left": null,
       "margin": null,
       "max_height": null,
       "max_width": null,
       "min_height": null,
       "min_width": null,
       "object_fit": null,
       "object_position": null,
       "order": null,
       "overflow": null,
       "overflow_x": null,
       "overflow_y": null,
       "padding": null,
       "right": null,
       "top": null,
       "visibility": null,
       "width": null
      }
     },
     "1bff7c55fe9d43ceb82d6cad77d0e56e": {
      "model_module": "@jupyter-widgets/controls",
      "model_module_version": "1.5.0",
      "model_name": "FloatProgressModel",
      "state": {
       "_dom_classes": [],
       "_model_module": "@jupyter-widgets/controls",
       "_model_module_version": "1.5.0",
       "_model_name": "FloatProgressModel",
       "_view_count": null,
       "_view_module": "@jupyter-widgets/controls",
       "_view_module_version": "1.5.0",
       "_view_name": "ProgressView",
       "bar_style": "success",
       "description": "",
       "description_tooltip": null,
       "layout": "IPY_MODEL_c92b54f56f424429b642caf11b982ee8",
       "max": 16.0,
       "min": 0.0,
       "orientation": "horizontal",
       "style": "IPY_MODEL_ccfa4320ffc94efc9743f4e753794736",
       "value": 16.0
      }
     },
     "200e0105114145328579d778753d2deb": {
      "model_module": "@jupyter-widgets/base",
      "model_module_version": "1.2.0",
      "model_name": "LayoutModel",
      "state": {
       "_model_module": "@jupyter-widgets/base",
       "_model_module_version": "1.2.0",
       "_model_name": "LayoutModel",
       "_view_count": null,
       "_view_module": "@jupyter-widgets/base",
       "_view_module_version": "1.2.0",
       "_view_name": "LayoutView",
       "align_content": null,
       "align_items": null,
       "align_self": null,
       "border": null,
       "bottom": null,
       "display": null,
       "flex": null,
       "flex_flow": null,
       "grid_area": null,
       "grid_auto_columns": null,
       "grid_auto_flow": null,
       "grid_auto_rows": null,
       "grid_column": null,
       "grid_gap": null,
       "grid_row": null,
       "grid_template_areas": null,
       "grid_template_columns": null,
       "grid_template_rows": null,
       "height": null,
       "justify_content": null,
       "justify_items": null,
       "left": null,
       "margin": null,
       "max_height": null,
       "max_width": null,
       "min_height": null,
       "min_width": null,
       "object_fit": null,
       "object_position": null,
       "order": null,
       "overflow": null,
       "overflow_x": null,
       "overflow_y": null,
       "padding": null,
       "right": null,
       "top": null,
       "visibility": null,
       "width": null
      }
     },
     "226ebbb40b97469b978c78eddc786bfe": {
      "model_module": "@jupyter-widgets/controls",
      "model_module_version": "1.5.0",
      "model_name": "HTMLModel",
      "state": {
       "_dom_classes": [],
       "_model_module": "@jupyter-widgets/controls",
       "_model_module_version": "1.5.0",
       "_model_name": "HTMLModel",
       "_view_count": null,
       "_view_module": "@jupyter-widgets/controls",
       "_view_module_version": "1.5.0",
       "_view_name": "HTMLView",
       "description": "",
       "description_tooltip": null,
       "layout": "IPY_MODEL_bcb728a8240742d8ad535b9ba7705e5a",
       "placeholder": "​",
       "style": "IPY_MODEL_a09b37ea326146058b2a2cdb664da318",
       "value": " 16/16 [00:02&lt;00:00,  5.56it/s]"
      }
     },
     "23974c7d62364837a22635b2f09b734d": {
      "model_module": "@jupyter-widgets/controls",
      "model_module_version": "1.5.0",
      "model_name": "HTMLModel",
      "state": {
       "_dom_classes": [],
       "_model_module": "@jupyter-widgets/controls",
       "_model_module_version": "1.5.0",
       "_model_name": "HTMLModel",
       "_view_count": null,
       "_view_module": "@jupyter-widgets/controls",
       "_view_module_version": "1.5.0",
       "_view_name": "HTMLView",
       "description": "",
       "description_tooltip": null,
       "layout": "IPY_MODEL_6acc96f42a6f42508edb00cee79a44b5",
       "placeholder": "​",
       "style": "IPY_MODEL_24808e5edb10438c9927aef2e4416a66",
       "value": "100%"
      }
     },
     "24808e5edb10438c9927aef2e4416a66": {
      "model_module": "@jupyter-widgets/controls",
      "model_module_version": "1.5.0",
      "model_name": "DescriptionStyleModel",
      "state": {
       "_model_module": "@jupyter-widgets/controls",
       "_model_module_version": "1.5.0",
       "_model_name": "DescriptionStyleModel",
       "_view_count": null,
       "_view_module": "@jupyter-widgets/base",
       "_view_module_version": "1.2.0",
       "_view_name": "StyleView",
       "description_width": ""
      }
     },
     "2da1eb4ca70848a091d87b3e745b7508": {
      "model_module": "@jupyter-widgets/controls",
      "model_module_version": "1.5.0",
      "model_name": "FloatProgressModel",
      "state": {
       "_dom_classes": [],
       "_model_module": "@jupyter-widgets/controls",
       "_model_module_version": "1.5.0",
       "_model_name": "FloatProgressModel",
       "_view_count": null,
       "_view_module": "@jupyter-widgets/controls",
       "_view_module_version": "1.5.0",
       "_view_name": "ProgressView",
       "bar_style": "success",
       "description": "",
       "description_tooltip": null,
       "layout": "IPY_MODEL_5b7caa957c5541e0a70243ad7ddde692",
       "max": 16.0,
       "min": 0.0,
       "orientation": "horizontal",
       "style": "IPY_MODEL_a017c84ee70c47e9acb12cc3be6c220b",
       "value": 16.0
      }
     },
     "315cd88fc3cd4bd8964e1287acf1f60a": {
      "model_module": "@jupyter-widgets/controls",
      "model_module_version": "1.5.0",
      "model_name": "ProgressStyleModel",
      "state": {
       "_model_module": "@jupyter-widgets/controls",
       "_model_module_version": "1.5.0",
       "_model_name": "ProgressStyleModel",
       "_view_count": null,
       "_view_module": "@jupyter-widgets/base",
       "_view_module_version": "1.2.0",
       "_view_name": "StyleView",
       "bar_color": null,
       "description_width": ""
      }
     },
     "3a9b5be52e374dbe966b4046ccf046eb": {
      "model_module": "@jupyter-widgets/controls",
      "model_module_version": "1.5.0",
      "model_name": "HBoxModel",
      "state": {
       "_dom_classes": [],
       "_model_module": "@jupyter-widgets/controls",
       "_model_module_version": "1.5.0",
       "_model_name": "HBoxModel",
       "_view_count": null,
       "_view_module": "@jupyter-widgets/controls",
       "_view_module_version": "1.5.0",
       "_view_name": "HBoxView",
       "box_style": "",
       "children": [
        "IPY_MODEL_4eeefd0b8cdf4a839d8a4f117e3e37a9",
        "IPY_MODEL_b104ced813a94d2da5dbcc8096e95f50",
        "IPY_MODEL_85ab7106b52a49f5b5fcf52a8400bf7c"
       ],
       "layout": "IPY_MODEL_d3dfc8cc45db49f0870a6ae6db6088f8"
      }
     },
     "3f73098593b64c0d84b632efb093f7b0": {
      "model_module": "@jupyter-widgets/controls",
      "model_module_version": "1.5.0",
      "model_name": "DescriptionStyleModel",
      "state": {
       "_model_module": "@jupyter-widgets/controls",
       "_model_module_version": "1.5.0",
       "_model_name": "DescriptionStyleModel",
       "_view_count": null,
       "_view_module": "@jupyter-widgets/base",
       "_view_module_version": "1.2.0",
       "_view_name": "StyleView",
       "description_width": ""
      }
     },
     "42da460ee70146ef9e8f0162fc0f7dc5": {
      "model_module": "@jupyter-widgets/controls",
      "model_module_version": "1.5.0",
      "model_name": "HTMLModel",
      "state": {
       "_dom_classes": [],
       "_model_module": "@jupyter-widgets/controls",
       "_model_module_version": "1.5.0",
       "_model_name": "HTMLModel",
       "_view_count": null,
       "_view_module": "@jupyter-widgets/controls",
       "_view_module_version": "1.5.0",
       "_view_name": "HTMLView",
       "description": "",
       "description_tooltip": null,
       "layout": "IPY_MODEL_6c1a45403349403d9e76c2207f962637",
       "placeholder": "​",
       "style": "IPY_MODEL_e9037ae220364345bc6664763b8b8495",
       "value": " 16/16 [00:03&lt;00:00,  5.71it/s]"
      }
     },
     "43a5c1e9877347ddba98f3c4be241bb3": {
      "model_module": "@jupyter-widgets/base",
      "model_module_version": "1.2.0",
      "model_name": "LayoutModel",
      "state": {
       "_model_module": "@jupyter-widgets/base",
       "_model_module_version": "1.2.0",
       "_model_name": "LayoutModel",
       "_view_count": null,
       "_view_module": "@jupyter-widgets/base",
       "_view_module_version": "1.2.0",
       "_view_name": "LayoutView",
       "align_content": null,
       "align_items": null,
       "align_self": null,
       "border": null,
       "bottom": null,
       "display": null,
       "flex": null,
       "flex_flow": null,
       "grid_area": null,
       "grid_auto_columns": null,
       "grid_auto_flow": null,
       "grid_auto_rows": null,
       "grid_column": null,
       "grid_gap": null,
       "grid_row": null,
       "grid_template_areas": null,
       "grid_template_columns": null,
       "grid_template_rows": null,
       "height": null,
       "justify_content": null,
       "justify_items": null,
       "left": null,
       "margin": null,
       "max_height": null,
       "max_width": null,
       "min_height": null,
       "min_width": null,
       "object_fit": null,
       "object_position": null,
       "order": null,
       "overflow": null,
       "overflow_x": null,
       "overflow_y": null,
       "padding": null,
       "right": null,
       "top": null,
       "visibility": null,
       "width": null
      }
     },
     "4690c0881d1448eb8adf589f015bc385": {
      "model_module": "@jupyter-widgets/controls",
      "model_module_version": "1.5.0",
      "model_name": "DescriptionStyleModel",
      "state": {
       "_model_module": "@jupyter-widgets/controls",
       "_model_module_version": "1.5.0",
       "_model_name": "DescriptionStyleModel",
       "_view_count": null,
       "_view_module": "@jupyter-widgets/base",
       "_view_module_version": "1.2.0",
       "_view_name": "StyleView",
       "description_width": ""
      }
     },
     "472b973c00d44be7a239ba526842ff4f": {
      "model_module": "@jupyter-widgets/base",
      "model_module_version": "1.2.0",
      "model_name": "LayoutModel",
      "state": {
       "_model_module": "@jupyter-widgets/base",
       "_model_module_version": "1.2.0",
       "_model_name": "LayoutModel",
       "_view_count": null,
       "_view_module": "@jupyter-widgets/base",
       "_view_module_version": "1.2.0",
       "_view_name": "LayoutView",
       "align_content": null,
       "align_items": null,
       "align_self": null,
       "border": null,
       "bottom": null,
       "display": null,
       "flex": null,
       "flex_flow": null,
       "grid_area": null,
       "grid_auto_columns": null,
       "grid_auto_flow": null,
       "grid_auto_rows": null,
       "grid_column": null,
       "grid_gap": null,
       "grid_row": null,
       "grid_template_areas": null,
       "grid_template_columns": null,
       "grid_template_rows": null,
       "height": null,
       "justify_content": null,
       "justify_items": null,
       "left": null,
       "margin": null,
       "max_height": null,
       "max_width": null,
       "min_height": null,
       "min_width": null,
       "object_fit": null,
       "object_position": null,
       "order": null,
       "overflow": null,
       "overflow_x": null,
       "overflow_y": null,
       "padding": null,
       "right": null,
       "top": null,
       "visibility": null,
       "width": null
      }
     },
     "47747b9e297c46fa8598a8c52af6f82a": {
      "model_module": "@jupyter-widgets/base",
      "model_module_version": "1.2.0",
      "model_name": "LayoutModel",
      "state": {
       "_model_module": "@jupyter-widgets/base",
       "_model_module_version": "1.2.0",
       "_model_name": "LayoutModel",
       "_view_count": null,
       "_view_module": "@jupyter-widgets/base",
       "_view_module_version": "1.2.0",
       "_view_name": "LayoutView",
       "align_content": null,
       "align_items": null,
       "align_self": null,
       "border": null,
       "bottom": null,
       "display": null,
       "flex": null,
       "flex_flow": null,
       "grid_area": null,
       "grid_auto_columns": null,
       "grid_auto_flow": null,
       "grid_auto_rows": null,
       "grid_column": null,
       "grid_gap": null,
       "grid_row": null,
       "grid_template_areas": null,
       "grid_template_columns": null,
       "grid_template_rows": null,
       "height": null,
       "justify_content": null,
       "justify_items": null,
       "left": null,
       "margin": null,
       "max_height": null,
       "max_width": null,
       "min_height": null,
       "min_width": null,
       "object_fit": null,
       "object_position": null,
       "order": null,
       "overflow": null,
       "overflow_x": null,
       "overflow_y": null,
       "padding": null,
       "right": null,
       "top": null,
       "visibility": null,
       "width": null
      }
     },
     "47c79aa13342479fb7143227ea261d71": {
      "model_module": "@jupyter-widgets/controls",
      "model_module_version": "1.5.0",
      "model_name": "HTMLModel",
      "state": {
       "_dom_classes": [],
       "_model_module": "@jupyter-widgets/controls",
       "_model_module_version": "1.5.0",
       "_model_name": "HTMLModel",
       "_view_count": null,
       "_view_module": "@jupyter-widgets/controls",
       "_view_module_version": "1.5.0",
       "_view_name": "HTMLView",
       "description": "",
       "description_tooltip": null,
       "layout": "IPY_MODEL_4a7a1589e17e4868bf3a8031c81ba049",
       "placeholder": "​",
       "style": "IPY_MODEL_f70a00262cd44c518a9285edfd97e667",
       "value": " 16/16 [00:02&lt;00:00,  5.87it/s]"
      }
     },
     "4a7a1589e17e4868bf3a8031c81ba049": {
      "model_module": "@jupyter-widgets/base",
      "model_module_version": "1.2.0",
      "model_name": "LayoutModel",
      "state": {
       "_model_module": "@jupyter-widgets/base",
       "_model_module_version": "1.2.0",
       "_model_name": "LayoutModel",
       "_view_count": null,
       "_view_module": "@jupyter-widgets/base",
       "_view_module_version": "1.2.0",
       "_view_name": "LayoutView",
       "align_content": null,
       "align_items": null,
       "align_self": null,
       "border": null,
       "bottom": null,
       "display": null,
       "flex": null,
       "flex_flow": null,
       "grid_area": null,
       "grid_auto_columns": null,
       "grid_auto_flow": null,
       "grid_auto_rows": null,
       "grid_column": null,
       "grid_gap": null,
       "grid_row": null,
       "grid_template_areas": null,
       "grid_template_columns": null,
       "grid_template_rows": null,
       "height": null,
       "justify_content": null,
       "justify_items": null,
       "left": null,
       "margin": null,
       "max_height": null,
       "max_width": null,
       "min_height": null,
       "min_width": null,
       "object_fit": null,
       "object_position": null,
       "order": null,
       "overflow": null,
       "overflow_x": null,
       "overflow_y": null,
       "padding": null,
       "right": null,
       "top": null,
       "visibility": null,
       "width": null
      }
     },
     "4da80f485cfa47b4b964035f8314b54d": {
      "model_module": "@jupyter-widgets/base",
      "model_module_version": "1.2.0",
      "model_name": "LayoutModel",
      "state": {
       "_model_module": "@jupyter-widgets/base",
       "_model_module_version": "1.2.0",
       "_model_name": "LayoutModel",
       "_view_count": null,
       "_view_module": "@jupyter-widgets/base",
       "_view_module_version": "1.2.0",
       "_view_name": "LayoutView",
       "align_content": null,
       "align_items": null,
       "align_self": null,
       "border": null,
       "bottom": null,
       "display": null,
       "flex": null,
       "flex_flow": null,
       "grid_area": null,
       "grid_auto_columns": null,
       "grid_auto_flow": null,
       "grid_auto_rows": null,
       "grid_column": null,
       "grid_gap": null,
       "grid_row": null,
       "grid_template_areas": null,
       "grid_template_columns": null,
       "grid_template_rows": null,
       "height": null,
       "justify_content": null,
       "justify_items": null,
       "left": null,
       "margin": null,
       "max_height": null,
       "max_width": null,
       "min_height": null,
       "min_width": null,
       "object_fit": null,
       "object_position": null,
       "order": null,
       "overflow": null,
       "overflow_x": null,
       "overflow_y": null,
       "padding": null,
       "right": null,
       "top": null,
       "visibility": null,
       "width": null
      }
     },
     "4eeefd0b8cdf4a839d8a4f117e3e37a9": {
      "model_module": "@jupyter-widgets/controls",
      "model_module_version": "1.5.0",
      "model_name": "HTMLModel",
      "state": {
       "_dom_classes": [],
       "_model_module": "@jupyter-widgets/controls",
       "_model_module_version": "1.5.0",
       "_model_name": "HTMLModel",
       "_view_count": null,
       "_view_module": "@jupyter-widgets/controls",
       "_view_module_version": "1.5.0",
       "_view_name": "HTMLView",
       "description": "",
       "description_tooltip": null,
       "layout": "IPY_MODEL_6d85e3d48baf45b9866ccddc03da7576",
       "placeholder": "​",
       "style": "IPY_MODEL_bbe0eccc5d6e467aa5dbcc60b784ee69",
       "value": "100%"
      }
     },
     "4fcd5ac52de64f279ba447851f1df676": {
      "model_module": "@jupyter-widgets/controls",
      "model_module_version": "1.5.0",
      "model_name": "DescriptionStyleModel",
      "state": {
       "_model_module": "@jupyter-widgets/controls",
       "_model_module_version": "1.5.0",
       "_model_name": "DescriptionStyleModel",
       "_view_count": null,
       "_view_module": "@jupyter-widgets/base",
       "_view_module_version": "1.2.0",
       "_view_name": "StyleView",
       "description_width": ""
      }
     },
     "5b7caa957c5541e0a70243ad7ddde692": {
      "model_module": "@jupyter-widgets/base",
      "model_module_version": "1.2.0",
      "model_name": "LayoutModel",
      "state": {
       "_model_module": "@jupyter-widgets/base",
       "_model_module_version": "1.2.0",
       "_model_name": "LayoutModel",
       "_view_count": null,
       "_view_module": "@jupyter-widgets/base",
       "_view_module_version": "1.2.0",
       "_view_name": "LayoutView",
       "align_content": null,
       "align_items": null,
       "align_self": null,
       "border": null,
       "bottom": null,
       "display": null,
       "flex": null,
       "flex_flow": null,
       "grid_area": null,
       "grid_auto_columns": null,
       "grid_auto_flow": null,
       "grid_auto_rows": null,
       "grid_column": null,
       "grid_gap": null,
       "grid_row": null,
       "grid_template_areas": null,
       "grid_template_columns": null,
       "grid_template_rows": null,
       "height": null,
       "justify_content": null,
       "justify_items": null,
       "left": null,
       "margin": null,
       "max_height": null,
       "max_width": null,
       "min_height": null,
       "min_width": null,
       "object_fit": null,
       "object_position": null,
       "order": null,
       "overflow": null,
       "overflow_x": null,
       "overflow_y": null,
       "padding": null,
       "right": null,
       "top": null,
       "visibility": null,
       "width": null
      }
     },
     "5c7ff7ffae47431398f87fe2c761dc97": {
      "model_module": "@jupyter-widgets/controls",
      "model_module_version": "1.5.0",
      "model_name": "HTMLModel",
      "state": {
       "_dom_classes": [],
       "_model_module": "@jupyter-widgets/controls",
       "_model_module_version": "1.5.0",
       "_model_name": "HTMLModel",
       "_view_count": null,
       "_view_module": "@jupyter-widgets/controls",
       "_view_module_version": "1.5.0",
       "_view_name": "HTMLView",
       "description": "",
       "description_tooltip": null,
       "layout": "IPY_MODEL_a5814cf6bebd4c2daa4c649cd521799b",
       "placeholder": "​",
       "style": "IPY_MODEL_edc6d46e42c14cefb2c35115553552ce",
       "value": "100%"
      }
     },
     "5cebac31e3c949a3a7fa95e47d288f2d": {
      "model_module": "@jupyter-widgets/base",
      "model_module_version": "1.2.0",
      "model_name": "LayoutModel",
      "state": {
       "_model_module": "@jupyter-widgets/base",
       "_model_module_version": "1.2.0",
       "_model_name": "LayoutModel",
       "_view_count": null,
       "_view_module": "@jupyter-widgets/base",
       "_view_module_version": "1.2.0",
       "_view_name": "LayoutView",
       "align_content": null,
       "align_items": null,
       "align_self": null,
       "border": null,
       "bottom": null,
       "display": null,
       "flex": null,
       "flex_flow": null,
       "grid_area": null,
       "grid_auto_columns": null,
       "grid_auto_flow": null,
       "grid_auto_rows": null,
       "grid_column": null,
       "grid_gap": null,
       "grid_row": null,
       "grid_template_areas": null,
       "grid_template_columns": null,
       "grid_template_rows": null,
       "height": null,
       "justify_content": null,
       "justify_items": null,
       "left": null,
       "margin": null,
       "max_height": null,
       "max_width": null,
       "min_height": null,
       "min_width": null,
       "object_fit": null,
       "object_position": null,
       "order": null,
       "overflow": null,
       "overflow_x": null,
       "overflow_y": null,
       "padding": null,
       "right": null,
       "top": null,
       "visibility": null,
       "width": null
      }
     },
     "5d5b131d3ce5466d8d2a282ff7a01cf4": {
      "model_module": "@jupyter-widgets/base",
      "model_module_version": "1.2.0",
      "model_name": "LayoutModel",
      "state": {
       "_model_module": "@jupyter-widgets/base",
       "_model_module_version": "1.2.0",
       "_model_name": "LayoutModel",
       "_view_count": null,
       "_view_module": "@jupyter-widgets/base",
       "_view_module_version": "1.2.0",
       "_view_name": "LayoutView",
       "align_content": null,
       "align_items": null,
       "align_self": null,
       "border": null,
       "bottom": null,
       "display": null,
       "flex": null,
       "flex_flow": null,
       "grid_area": null,
       "grid_auto_columns": null,
       "grid_auto_flow": null,
       "grid_auto_rows": null,
       "grid_column": null,
       "grid_gap": null,
       "grid_row": null,
       "grid_template_areas": null,
       "grid_template_columns": null,
       "grid_template_rows": null,
       "height": null,
       "justify_content": null,
       "justify_items": null,
       "left": null,
       "margin": null,
       "max_height": null,
       "max_width": null,
       "min_height": null,
       "min_width": null,
       "object_fit": null,
       "object_position": null,
       "order": null,
       "overflow": null,
       "overflow_x": null,
       "overflow_y": null,
       "padding": null,
       "right": null,
       "top": null,
       "visibility": null,
       "width": null
      }
     },
     "617c7c8b41434994b6c32176ac805c40": {
      "model_module": "@jupyter-widgets/controls",
      "model_module_version": "1.5.0",
      "model_name": "DescriptionStyleModel",
      "state": {
       "_model_module": "@jupyter-widgets/controls",
       "_model_module_version": "1.5.0",
       "_model_name": "DescriptionStyleModel",
       "_view_count": null,
       "_view_module": "@jupyter-widgets/base",
       "_view_module_version": "1.2.0",
       "_view_name": "StyleView",
       "description_width": ""
      }
     },
     "64927baba37b435c8978653a6febeadf": {
      "model_module": "@jupyter-widgets/base",
      "model_module_version": "1.2.0",
      "model_name": "LayoutModel",
      "state": {
       "_model_module": "@jupyter-widgets/base",
       "_model_module_version": "1.2.0",
       "_model_name": "LayoutModel",
       "_view_count": null,
       "_view_module": "@jupyter-widgets/base",
       "_view_module_version": "1.2.0",
       "_view_name": "LayoutView",
       "align_content": null,
       "align_items": null,
       "align_self": null,
       "border": null,
       "bottom": null,
       "display": null,
       "flex": null,
       "flex_flow": null,
       "grid_area": null,
       "grid_auto_columns": null,
       "grid_auto_flow": null,
       "grid_auto_rows": null,
       "grid_column": null,
       "grid_gap": null,
       "grid_row": null,
       "grid_template_areas": null,
       "grid_template_columns": null,
       "grid_template_rows": null,
       "height": null,
       "justify_content": null,
       "justify_items": null,
       "left": null,
       "margin": null,
       "max_height": null,
       "max_width": null,
       "min_height": null,
       "min_width": null,
       "object_fit": null,
       "object_position": null,
       "order": null,
       "overflow": null,
       "overflow_x": null,
       "overflow_y": null,
       "padding": null,
       "right": null,
       "top": null,
       "visibility": null,
       "width": null
      }
     },
     "6707a3c3c1c7442792b7761b37e98ea0": {
      "model_module": "@jupyter-widgets/base",
      "model_module_version": "1.2.0",
      "model_name": "LayoutModel",
      "state": {
       "_model_module": "@jupyter-widgets/base",
       "_model_module_version": "1.2.0",
       "_model_name": "LayoutModel",
       "_view_count": null,
       "_view_module": "@jupyter-widgets/base",
       "_view_module_version": "1.2.0",
       "_view_name": "LayoutView",
       "align_content": null,
       "align_items": null,
       "align_self": null,
       "border": null,
       "bottom": null,
       "display": null,
       "flex": null,
       "flex_flow": null,
       "grid_area": null,
       "grid_auto_columns": null,
       "grid_auto_flow": null,
       "grid_auto_rows": null,
       "grid_column": null,
       "grid_gap": null,
       "grid_row": null,
       "grid_template_areas": null,
       "grid_template_columns": null,
       "grid_template_rows": null,
       "height": null,
       "justify_content": null,
       "justify_items": null,
       "left": null,
       "margin": null,
       "max_height": null,
       "max_width": null,
       "min_height": null,
       "min_width": null,
       "object_fit": null,
       "object_position": null,
       "order": null,
       "overflow": null,
       "overflow_x": null,
       "overflow_y": null,
       "padding": null,
       "right": null,
       "top": null,
       "visibility": null,
       "width": null
      }
     },
     "6a3a7d04dde5435099e9a04967e060ab": {
      "model_module": "@jupyter-widgets/controls",
      "model_module_version": "1.5.0",
      "model_name": "HTMLModel",
      "state": {
       "_dom_classes": [],
       "_model_module": "@jupyter-widgets/controls",
       "_model_module_version": "1.5.0",
       "_model_name": "HTMLModel",
       "_view_count": null,
       "_view_module": "@jupyter-widgets/controls",
       "_view_module_version": "1.5.0",
       "_view_name": "HTMLView",
       "description": "",
       "description_tooltip": null,
       "layout": "IPY_MODEL_c15afd07afc144dcbb9206e13a957322",
       "placeholder": "​",
       "style": "IPY_MODEL_73c8d8a3a6dd4d68a0af5e89b84653c9",
       "value": "100%"
      }
     },
     "6acc96f42a6f42508edb00cee79a44b5": {
      "model_module": "@jupyter-widgets/base",
      "model_module_version": "1.2.0",
      "model_name": "LayoutModel",
      "state": {
       "_model_module": "@jupyter-widgets/base",
       "_model_module_version": "1.2.0",
       "_model_name": "LayoutModel",
       "_view_count": null,
       "_view_module": "@jupyter-widgets/base",
       "_view_module_version": "1.2.0",
       "_view_name": "LayoutView",
       "align_content": null,
       "align_items": null,
       "align_self": null,
       "border": null,
       "bottom": null,
       "display": null,
       "flex": null,
       "flex_flow": null,
       "grid_area": null,
       "grid_auto_columns": null,
       "grid_auto_flow": null,
       "grid_auto_rows": null,
       "grid_column": null,
       "grid_gap": null,
       "grid_row": null,
       "grid_template_areas": null,
       "grid_template_columns": null,
       "grid_template_rows": null,
       "height": null,
       "justify_content": null,
       "justify_items": null,
       "left": null,
       "margin": null,
       "max_height": null,
       "max_width": null,
       "min_height": null,
       "min_width": null,
       "object_fit": null,
       "object_position": null,
       "order": null,
       "overflow": null,
       "overflow_x": null,
       "overflow_y": null,
       "padding": null,
       "right": null,
       "top": null,
       "visibility": null,
       "width": null
      }
     },
     "6c1a45403349403d9e76c2207f962637": {
      "model_module": "@jupyter-widgets/base",
      "model_module_version": "1.2.0",
      "model_name": "LayoutModel",
      "state": {
       "_model_module": "@jupyter-widgets/base",
       "_model_module_version": "1.2.0",
       "_model_name": "LayoutModel",
       "_view_count": null,
       "_view_module": "@jupyter-widgets/base",
       "_view_module_version": "1.2.0",
       "_view_name": "LayoutView",
       "align_content": null,
       "align_items": null,
       "align_self": null,
       "border": null,
       "bottom": null,
       "display": null,
       "flex": null,
       "flex_flow": null,
       "grid_area": null,
       "grid_auto_columns": null,
       "grid_auto_flow": null,
       "grid_auto_rows": null,
       "grid_column": null,
       "grid_gap": null,
       "grid_row": null,
       "grid_template_areas": null,
       "grid_template_columns": null,
       "grid_template_rows": null,
       "height": null,
       "justify_content": null,
       "justify_items": null,
       "left": null,
       "margin": null,
       "max_height": null,
       "max_width": null,
       "min_height": null,
       "min_width": null,
       "object_fit": null,
       "object_position": null,
       "order": null,
       "overflow": null,
       "overflow_x": null,
       "overflow_y": null,
       "padding": null,
       "right": null,
       "top": null,
       "visibility": null,
       "width": null
      }
     },
     "6d85e3d48baf45b9866ccddc03da7576": {
      "model_module": "@jupyter-widgets/base",
      "model_module_version": "1.2.0",
      "model_name": "LayoutModel",
      "state": {
       "_model_module": "@jupyter-widgets/base",
       "_model_module_version": "1.2.0",
       "_model_name": "LayoutModel",
       "_view_count": null,
       "_view_module": "@jupyter-widgets/base",
       "_view_module_version": "1.2.0",
       "_view_name": "LayoutView",
       "align_content": null,
       "align_items": null,
       "align_self": null,
       "border": null,
       "bottom": null,
       "display": null,
       "flex": null,
       "flex_flow": null,
       "grid_area": null,
       "grid_auto_columns": null,
       "grid_auto_flow": null,
       "grid_auto_rows": null,
       "grid_column": null,
       "grid_gap": null,
       "grid_row": null,
       "grid_template_areas": null,
       "grid_template_columns": null,
       "grid_template_rows": null,
       "height": null,
       "justify_content": null,
       "justify_items": null,
       "left": null,
       "margin": null,
       "max_height": null,
       "max_width": null,
       "min_height": null,
       "min_width": null,
       "object_fit": null,
       "object_position": null,
       "order": null,
       "overflow": null,
       "overflow_x": null,
       "overflow_y": null,
       "padding": null,
       "right": null,
       "top": null,
       "visibility": null,
       "width": null
      }
     },
     "73c8d8a3a6dd4d68a0af5e89b84653c9": {
      "model_module": "@jupyter-widgets/controls",
      "model_module_version": "1.5.0",
      "model_name": "DescriptionStyleModel",
      "state": {
       "_model_module": "@jupyter-widgets/controls",
       "_model_module_version": "1.5.0",
       "_model_name": "DescriptionStyleModel",
       "_view_count": null,
       "_view_module": "@jupyter-widgets/base",
       "_view_module_version": "1.2.0",
       "_view_name": "StyleView",
       "description_width": ""
      }
     },
     "7456df18a021415f9fd9ab63192cb523": {
      "model_module": "@jupyter-widgets/controls",
      "model_module_version": "1.5.0",
      "model_name": "ProgressStyleModel",
      "state": {
       "_model_module": "@jupyter-widgets/controls",
       "_model_module_version": "1.5.0",
       "_model_name": "ProgressStyleModel",
       "_view_count": null,
       "_view_module": "@jupyter-widgets/base",
       "_view_module_version": "1.2.0",
       "_view_name": "StyleView",
       "bar_color": null,
       "description_width": ""
      }
     },
     "7557372ffd7041afbe18be55ed7a7f22": {
      "model_module": "@jupyter-widgets/controls",
      "model_module_version": "1.5.0",
      "model_name": "ProgressStyleModel",
      "state": {
       "_model_module": "@jupyter-widgets/controls",
       "_model_module_version": "1.5.0",
       "_model_name": "ProgressStyleModel",
       "_view_count": null,
       "_view_module": "@jupyter-widgets/base",
       "_view_module_version": "1.2.0",
       "_view_name": "StyleView",
       "bar_color": null,
       "description_width": ""
      }
     },
     "7acb328ec00c491fb9439999d140dea1": {
      "model_module": "@jupyter-widgets/base",
      "model_module_version": "1.2.0",
      "model_name": "LayoutModel",
      "state": {
       "_model_module": "@jupyter-widgets/base",
       "_model_module_version": "1.2.0",
       "_model_name": "LayoutModel",
       "_view_count": null,
       "_view_module": "@jupyter-widgets/base",
       "_view_module_version": "1.2.0",
       "_view_name": "LayoutView",
       "align_content": null,
       "align_items": null,
       "align_self": null,
       "border": null,
       "bottom": null,
       "display": null,
       "flex": null,
       "flex_flow": null,
       "grid_area": null,
       "grid_auto_columns": null,
       "grid_auto_flow": null,
       "grid_auto_rows": null,
       "grid_column": null,
       "grid_gap": null,
       "grid_row": null,
       "grid_template_areas": null,
       "grid_template_columns": null,
       "grid_template_rows": null,
       "height": null,
       "justify_content": null,
       "justify_items": null,
       "left": null,
       "margin": null,
       "max_height": null,
       "max_width": null,
       "min_height": null,
       "min_width": null,
       "object_fit": null,
       "object_position": null,
       "order": null,
       "overflow": null,
       "overflow_x": null,
       "overflow_y": null,
       "padding": null,
       "right": null,
       "top": null,
       "visibility": null,
       "width": null
      }
     },
     "85ab7106b52a49f5b5fcf52a8400bf7c": {
      "model_module": "@jupyter-widgets/controls",
      "model_module_version": "1.5.0",
      "model_name": "HTMLModel",
      "state": {
       "_dom_classes": [],
       "_model_module": "@jupyter-widgets/controls",
       "_model_module_version": "1.5.0",
       "_model_name": "HTMLModel",
       "_view_count": null,
       "_view_module": "@jupyter-widgets/controls",
       "_view_module_version": "1.5.0",
       "_view_name": "HTMLView",
       "description": "",
       "description_tooltip": null,
       "layout": "IPY_MODEL_f752cbde6bfc415c9a9a115b5bd6aecc",
       "placeholder": "​",
       "style": "IPY_MODEL_afb942fe4327483c8e4caa7d2033731d",
       "value": " 16/16 [00:03&lt;00:00,  5.62it/s]"
      }
     },
     "895c2a54b5f74607892e0ae82be1101c": {
      "model_module": "@jupyter-widgets/base",
      "model_module_version": "1.2.0",
      "model_name": "LayoutModel",
      "state": {
       "_model_module": "@jupyter-widgets/base",
       "_model_module_version": "1.2.0",
       "_model_name": "LayoutModel",
       "_view_count": null,
       "_view_module": "@jupyter-widgets/base",
       "_view_module_version": "1.2.0",
       "_view_name": "LayoutView",
       "align_content": null,
       "align_items": null,
       "align_self": null,
       "border": null,
       "bottom": null,
       "display": null,
       "flex": null,
       "flex_flow": null,
       "grid_area": null,
       "grid_auto_columns": null,
       "grid_auto_flow": null,
       "grid_auto_rows": null,
       "grid_column": null,
       "grid_gap": null,
       "grid_row": null,
       "grid_template_areas": null,
       "grid_template_columns": null,
       "grid_template_rows": null,
       "height": null,
       "justify_content": null,
       "justify_items": null,
       "left": null,
       "margin": null,
       "max_height": null,
       "max_width": null,
       "min_height": null,
       "min_width": null,
       "object_fit": null,
       "object_position": null,
       "order": null,
       "overflow": null,
       "overflow_x": null,
       "overflow_y": null,
       "padding": null,
       "right": null,
       "top": null,
       "visibility": null,
       "width": null
      }
     },
     "8e353d94ce0344eebfdf9ad76e28ef54": {
      "model_module": "@jupyter-widgets/controls",
      "model_module_version": "1.5.0",
      "model_name": "ProgressStyleModel",
      "state": {
       "_model_module": "@jupyter-widgets/controls",
       "_model_module_version": "1.5.0",
       "_model_name": "ProgressStyleModel",
       "_view_count": null,
       "_view_module": "@jupyter-widgets/base",
       "_view_module_version": "1.2.0",
       "_view_name": "StyleView",
       "bar_color": null,
       "description_width": ""
      }
     },
     "8ecea63d02cb4ecd87438915d96cb059": {
      "model_module": "@jupyter-widgets/controls",
      "model_module_version": "1.5.0",
      "model_name": "HBoxModel",
      "state": {
       "_dom_classes": [],
       "_model_module": "@jupyter-widgets/controls",
       "_model_module_version": "1.5.0",
       "_model_name": "HBoxModel",
       "_view_count": null,
       "_view_module": "@jupyter-widgets/controls",
       "_view_module_version": "1.5.0",
       "_view_name": "HBoxView",
       "box_style": "",
       "children": [
        "IPY_MODEL_23974c7d62364837a22635b2f09b734d",
        "IPY_MODEL_1bff7c55fe9d43ceb82d6cad77d0e56e",
        "IPY_MODEL_226ebbb40b97469b978c78eddc786bfe"
       ],
       "layout": "IPY_MODEL_947d6b5616334cb28cd519c0629cc544"
      }
     },
     "93b6df2f9a97475e9e65ff2bf7417e0f": {
      "model_module": "@jupyter-widgets/controls",
      "model_module_version": "1.5.0",
      "model_name": "DescriptionStyleModel",
      "state": {
       "_model_module": "@jupyter-widgets/controls",
       "_model_module_version": "1.5.0",
       "_model_name": "DescriptionStyleModel",
       "_view_count": null,
       "_view_module": "@jupyter-widgets/base",
       "_view_module_version": "1.2.0",
       "_view_name": "StyleView",
       "description_width": ""
      }
     },
     "94661c2966da4b749b0fa0ba1be68f14": {
      "model_module": "@jupyter-widgets/controls",
      "model_module_version": "1.5.0",
      "model_name": "HTMLModel",
      "state": {
       "_dom_classes": [],
       "_model_module": "@jupyter-widgets/controls",
       "_model_module_version": "1.5.0",
       "_model_name": "HTMLModel",
       "_view_count": null,
       "_view_module": "@jupyter-widgets/controls",
       "_view_module_version": "1.5.0",
       "_view_name": "HTMLView",
       "description": "",
       "description_tooltip": null,
       "layout": "IPY_MODEL_4da80f485cfa47b4b964035f8314b54d",
       "placeholder": "​",
       "style": "IPY_MODEL_617c7c8b41434994b6c32176ac805c40",
       "value": " 16/16 [00:03&lt;00:00,  4.42it/s]"
      }
     },
     "947d6b5616334cb28cd519c0629cc544": {
      "model_module": "@jupyter-widgets/base",
      "model_module_version": "1.2.0",
      "model_name": "LayoutModel",
      "state": {
       "_model_module": "@jupyter-widgets/base",
       "_model_module_version": "1.2.0",
       "_model_name": "LayoutModel",
       "_view_count": null,
       "_view_module": "@jupyter-widgets/base",
       "_view_module_version": "1.2.0",
       "_view_name": "LayoutView",
       "align_content": null,
       "align_items": null,
       "align_self": null,
       "border": null,
       "bottom": null,
       "display": null,
       "flex": null,
       "flex_flow": null,
       "grid_area": null,
       "grid_auto_columns": null,
       "grid_auto_flow": null,
       "grid_auto_rows": null,
       "grid_column": null,
       "grid_gap": null,
       "grid_row": null,
       "grid_template_areas": null,
       "grid_template_columns": null,
       "grid_template_rows": null,
       "height": null,
       "justify_content": null,
       "justify_items": null,
       "left": null,
       "margin": null,
       "max_height": null,
       "max_width": null,
       "min_height": null,
       "min_width": null,
       "object_fit": null,
       "object_position": null,
       "order": null,
       "overflow": null,
       "overflow_x": null,
       "overflow_y": null,
       "padding": null,
       "right": null,
       "top": null,
       "visibility": null,
       "width": null
      }
     },
     "9de0f814d3a14fe9ad74615daf420045": {
      "model_module": "@jupyter-widgets/controls",
      "model_module_version": "1.5.0",
      "model_name": "HTMLModel",
      "state": {
       "_dom_classes": [],
       "_model_module": "@jupyter-widgets/controls",
       "_model_module_version": "1.5.0",
       "_model_name": "HTMLModel",
       "_view_count": null,
       "_view_module": "@jupyter-widgets/controls",
       "_view_module_version": "1.5.0",
       "_view_name": "HTMLView",
       "description": "",
       "description_tooltip": null,
       "layout": "IPY_MODEL_7acb328ec00c491fb9439999d140dea1",
       "placeholder": "​",
       "style": "IPY_MODEL_147a033f81464402b7600dd99e6a58cc",
       "value": " 16/16 [00:02&lt;00:00,  4.97it/s]"
      }
     },
     "a017c84ee70c47e9acb12cc3be6c220b": {
      "model_module": "@jupyter-widgets/controls",
      "model_module_version": "1.5.0",
      "model_name": "ProgressStyleModel",
      "state": {
       "_model_module": "@jupyter-widgets/controls",
       "_model_module_version": "1.5.0",
       "_model_name": "ProgressStyleModel",
       "_view_count": null,
       "_view_module": "@jupyter-widgets/base",
       "_view_module_version": "1.2.0",
       "_view_name": "StyleView",
       "bar_color": null,
       "description_width": ""
      }
     },
     "a037abeed197477bb2ab22eaf967c8e4": {
      "model_module": "@jupyter-widgets/controls",
      "model_module_version": "1.5.0",
      "model_name": "HTMLModel",
      "state": {
       "_dom_classes": [],
       "_model_module": "@jupyter-widgets/controls",
       "_model_module_version": "1.5.0",
       "_model_name": "HTMLModel",
       "_view_count": null,
       "_view_module": "@jupyter-widgets/controls",
       "_view_module_version": "1.5.0",
       "_view_name": "HTMLView",
       "description": "",
       "description_tooltip": null,
       "layout": "IPY_MODEL_a6db2bb1b26f4076bdf99a9507d1dfc4",
       "placeholder": "​",
       "style": "IPY_MODEL_4690c0881d1448eb8adf589f015bc385",
       "value": " 16/16 [00:02&lt;00:00,  5.79it/s]"
      }
     },
     "a09b37ea326146058b2a2cdb664da318": {
      "model_module": "@jupyter-widgets/controls",
      "model_module_version": "1.5.0",
      "model_name": "DescriptionStyleModel",
      "state": {
       "_model_module": "@jupyter-widgets/controls",
       "_model_module_version": "1.5.0",
       "_model_name": "DescriptionStyleModel",
       "_view_count": null,
       "_view_module": "@jupyter-widgets/base",
       "_view_module_version": "1.2.0",
       "_view_name": "StyleView",
       "description_width": ""
      }
     },
     "a0f4a69e68c04e4b8ac20a2260d92525": {
      "model_module": "@jupyter-widgets/controls",
      "model_module_version": "1.5.0",
      "model_name": "ProgressStyleModel",
      "state": {
       "_model_module": "@jupyter-widgets/controls",
       "_model_module_version": "1.5.0",
       "_model_name": "ProgressStyleModel",
       "_view_count": null,
       "_view_module": "@jupyter-widgets/base",
       "_view_module_version": "1.2.0",
       "_view_name": "StyleView",
       "bar_color": null,
       "description_width": ""
      }
     },
     "a25652ef92224d9b953435967c6a5933": {
      "model_module": "@jupyter-widgets/controls",
      "model_module_version": "1.5.0",
      "model_name": "HBoxModel",
      "state": {
       "_dom_classes": [],
       "_model_module": "@jupyter-widgets/controls",
       "_model_module_version": "1.5.0",
       "_model_name": "HBoxModel",
       "_view_count": null,
       "_view_module": "@jupyter-widgets/controls",
       "_view_module_version": "1.5.0",
       "_view_name": "HBoxView",
       "box_style": "",
       "children": [
        "IPY_MODEL_e0f9b550f95f4913bf35f28ccfd1c3c3",
        "IPY_MODEL_c372b33b7e6a4417a4e00cc99a37d1b7",
        "IPY_MODEL_47c79aa13342479fb7143227ea261d71"
       ],
       "layout": "IPY_MODEL_a5a5a2c8facb4aa5b0eea6d967b0630c"
      }
     },
     "a5814cf6bebd4c2daa4c649cd521799b": {
      "model_module": "@jupyter-widgets/base",
      "model_module_version": "1.2.0",
      "model_name": "LayoutModel",
      "state": {
       "_model_module": "@jupyter-widgets/base",
       "_model_module_version": "1.2.0",
       "_model_name": "LayoutModel",
       "_view_count": null,
       "_view_module": "@jupyter-widgets/base",
       "_view_module_version": "1.2.0",
       "_view_name": "LayoutView",
       "align_content": null,
       "align_items": null,
       "align_self": null,
       "border": null,
       "bottom": null,
       "display": null,
       "flex": null,
       "flex_flow": null,
       "grid_area": null,
       "grid_auto_columns": null,
       "grid_auto_flow": null,
       "grid_auto_rows": null,
       "grid_column": null,
       "grid_gap": null,
       "grid_row": null,
       "grid_template_areas": null,
       "grid_template_columns": null,
       "grid_template_rows": null,
       "height": null,
       "justify_content": null,
       "justify_items": null,
       "left": null,
       "margin": null,
       "max_height": null,
       "max_width": null,
       "min_height": null,
       "min_width": null,
       "object_fit": null,
       "object_position": null,
       "order": null,
       "overflow": null,
       "overflow_x": null,
       "overflow_y": null,
       "padding": null,
       "right": null,
       "top": null,
       "visibility": null,
       "width": null
      }
     },
     "a5a5a2c8facb4aa5b0eea6d967b0630c": {
      "model_module": "@jupyter-widgets/base",
      "model_module_version": "1.2.0",
      "model_name": "LayoutModel",
      "state": {
       "_model_module": "@jupyter-widgets/base",
       "_model_module_version": "1.2.0",
       "_model_name": "LayoutModel",
       "_view_count": null,
       "_view_module": "@jupyter-widgets/base",
       "_view_module_version": "1.2.0",
       "_view_name": "LayoutView",
       "align_content": null,
       "align_items": null,
       "align_self": null,
       "border": null,
       "bottom": null,
       "display": null,
       "flex": null,
       "flex_flow": null,
       "grid_area": null,
       "grid_auto_columns": null,
       "grid_auto_flow": null,
       "grid_auto_rows": null,
       "grid_column": null,
       "grid_gap": null,
       "grid_row": null,
       "grid_template_areas": null,
       "grid_template_columns": null,
       "grid_template_rows": null,
       "height": null,
       "justify_content": null,
       "justify_items": null,
       "left": null,
       "margin": null,
       "max_height": null,
       "max_width": null,
       "min_height": null,
       "min_width": null,
       "object_fit": null,
       "object_position": null,
       "order": null,
       "overflow": null,
       "overflow_x": null,
       "overflow_y": null,
       "padding": null,
       "right": null,
       "top": null,
       "visibility": null,
       "width": null
      }
     },
     "a6db2bb1b26f4076bdf99a9507d1dfc4": {
      "model_module": "@jupyter-widgets/base",
      "model_module_version": "1.2.0",
      "model_name": "LayoutModel",
      "state": {
       "_model_module": "@jupyter-widgets/base",
       "_model_module_version": "1.2.0",
       "_model_name": "LayoutModel",
       "_view_count": null,
       "_view_module": "@jupyter-widgets/base",
       "_view_module_version": "1.2.0",
       "_view_name": "LayoutView",
       "align_content": null,
       "align_items": null,
       "align_self": null,
       "border": null,
       "bottom": null,
       "display": null,
       "flex": null,
       "flex_flow": null,
       "grid_area": null,
       "grid_auto_columns": null,
       "grid_auto_flow": null,
       "grid_auto_rows": null,
       "grid_column": null,
       "grid_gap": null,
       "grid_row": null,
       "grid_template_areas": null,
       "grid_template_columns": null,
       "grid_template_rows": null,
       "height": null,
       "justify_content": null,
       "justify_items": null,
       "left": null,
       "margin": null,
       "max_height": null,
       "max_width": null,
       "min_height": null,
       "min_width": null,
       "object_fit": null,
       "object_position": null,
       "order": null,
       "overflow": null,
       "overflow_x": null,
       "overflow_y": null,
       "padding": null,
       "right": null,
       "top": null,
       "visibility": null,
       "width": null
      }
     },
     "ad914de6e6514f489f8887b141cefc95": {
      "model_module": "@jupyter-widgets/controls",
      "model_module_version": "1.5.0",
      "model_name": "HBoxModel",
      "state": {
       "_dom_classes": [],
       "_model_module": "@jupyter-widgets/controls",
       "_model_module_version": "1.5.0",
       "_model_name": "HBoxModel",
       "_view_count": null,
       "_view_module": "@jupyter-widgets/controls",
       "_view_module_version": "1.5.0",
       "_view_name": "HBoxView",
       "box_style": "",
       "children": [
        "IPY_MODEL_e1d59e00d809433ab674f41df88041e7",
        "IPY_MODEL_d78568a83ad04f799c7a410a40bea2ad",
        "IPY_MODEL_94661c2966da4b749b0fa0ba1be68f14"
       ],
       "layout": "IPY_MODEL_cf4be216f9e84f08bc763c0430d0088a"
      }
     },
     "afb942fe4327483c8e4caa7d2033731d": {
      "model_module": "@jupyter-widgets/controls",
      "model_module_version": "1.5.0",
      "model_name": "DescriptionStyleModel",
      "state": {
       "_model_module": "@jupyter-widgets/controls",
       "_model_module_version": "1.5.0",
       "_model_name": "DescriptionStyleModel",
       "_view_count": null,
       "_view_module": "@jupyter-widgets/base",
       "_view_module_version": "1.2.0",
       "_view_name": "StyleView",
       "description_width": ""
      }
     },
     "b08b688c53bb4d30b3f5f599190eda3e": {
      "model_module": "@jupyter-widgets/controls",
      "model_module_version": "1.5.0",
      "model_name": "HTMLModel",
      "state": {
       "_dom_classes": [],
       "_model_module": "@jupyter-widgets/controls",
       "_model_module_version": "1.5.0",
       "_model_name": "HTMLModel",
       "_view_count": null,
       "_view_module": "@jupyter-widgets/controls",
       "_view_module_version": "1.5.0",
       "_view_name": "HTMLView",
       "description": "",
       "description_tooltip": null,
       "layout": "IPY_MODEL_43a5c1e9877347ddba98f3c4be241bb3",
       "placeholder": "​",
       "style": "IPY_MODEL_93b6df2f9a97475e9e65ff2bf7417e0f",
       "value": "100%"
      }
     },
     "b104ced813a94d2da5dbcc8096e95f50": {
      "model_module": "@jupyter-widgets/controls",
      "model_module_version": "1.5.0",
      "model_name": "FloatProgressModel",
      "state": {
       "_dom_classes": [],
       "_model_module": "@jupyter-widgets/controls",
       "_model_module_version": "1.5.0",
       "_model_name": "FloatProgressModel",
       "_view_count": null,
       "_view_module": "@jupyter-widgets/controls",
       "_view_module_version": "1.5.0",
       "_view_name": "ProgressView",
       "bar_style": "success",
       "description": "",
       "description_tooltip": null,
       "layout": "IPY_MODEL_5cebac31e3c949a3a7fa95e47d288f2d",
       "max": 16.0,
       "min": 0.0,
       "orientation": "horizontal",
       "style": "IPY_MODEL_a0f4a69e68c04e4b8ac20a2260d92525",
       "value": 16.0
      }
     },
     "b86142959a22440d9baf27fa2ab93e35": {
      "model_module": "@jupyter-widgets/base",
      "model_module_version": "1.2.0",
      "model_name": "LayoutModel",
      "state": {
       "_model_module": "@jupyter-widgets/base",
       "_model_module_version": "1.2.0",
       "_model_name": "LayoutModel",
       "_view_count": null,
       "_view_module": "@jupyter-widgets/base",
       "_view_module_version": "1.2.0",
       "_view_name": "LayoutView",
       "align_content": null,
       "align_items": null,
       "align_self": null,
       "border": null,
       "bottom": null,
       "display": null,
       "flex": null,
       "flex_flow": null,
       "grid_area": null,
       "grid_auto_columns": null,
       "grid_auto_flow": null,
       "grid_auto_rows": null,
       "grid_column": null,
       "grid_gap": null,
       "grid_row": null,
       "grid_template_areas": null,
       "grid_template_columns": null,
       "grid_template_rows": null,
       "height": null,
       "justify_content": null,
       "justify_items": null,
       "left": null,
       "margin": null,
       "max_height": null,
       "max_width": null,
       "min_height": null,
       "min_width": null,
       "object_fit": null,
       "object_position": null,
       "order": null,
       "overflow": null,
       "overflow_x": null,
       "overflow_y": null,
       "padding": null,
       "right": null,
       "top": null,
       "visibility": null,
       "width": null
      }
     },
     "ba21a24b1b144f1196a03a025b296f00": {
      "model_module": "@jupyter-widgets/controls",
      "model_module_version": "1.5.0",
      "model_name": "ProgressStyleModel",
      "state": {
       "_model_module": "@jupyter-widgets/controls",
       "_model_module_version": "1.5.0",
       "_model_name": "ProgressStyleModel",
       "_view_count": null,
       "_view_module": "@jupyter-widgets/base",
       "_view_module_version": "1.2.0",
       "_view_name": "StyleView",
       "bar_color": null,
       "description_width": ""
      }
     },
     "bbbf25c598284fc39495285008775957": {
      "model_module": "@jupyter-widgets/controls",
      "model_module_version": "1.5.0",
      "model_name": "HTMLModel",
      "state": {
       "_dom_classes": [],
       "_model_module": "@jupyter-widgets/controls",
       "_model_module_version": "1.5.0",
       "_model_name": "HTMLModel",
       "_view_count": null,
       "_view_module": "@jupyter-widgets/controls",
       "_view_module_version": "1.5.0",
       "_view_name": "HTMLView",
       "description": "",
       "description_tooltip": null,
       "layout": "IPY_MODEL_5d5b131d3ce5466d8d2a282ff7a01cf4",
       "placeholder": "​",
       "style": "IPY_MODEL_4fcd5ac52de64f279ba447851f1df676",
       "value": "100%"
      }
     },
     "bbe0eccc5d6e467aa5dbcc60b784ee69": {
      "model_module": "@jupyter-widgets/controls",
      "model_module_version": "1.5.0",
      "model_name": "DescriptionStyleModel",
      "state": {
       "_model_module": "@jupyter-widgets/controls",
       "_model_module_version": "1.5.0",
       "_model_name": "DescriptionStyleModel",
       "_view_count": null,
       "_view_module": "@jupyter-widgets/base",
       "_view_module_version": "1.2.0",
       "_view_name": "StyleView",
       "description_width": ""
      }
     },
     "bcb728a8240742d8ad535b9ba7705e5a": {
      "model_module": "@jupyter-widgets/base",
      "model_module_version": "1.2.0",
      "model_name": "LayoutModel",
      "state": {
       "_model_module": "@jupyter-widgets/base",
       "_model_module_version": "1.2.0",
       "_model_name": "LayoutModel",
       "_view_count": null,
       "_view_module": "@jupyter-widgets/base",
       "_view_module_version": "1.2.0",
       "_view_name": "LayoutView",
       "align_content": null,
       "align_items": null,
       "align_self": null,
       "border": null,
       "bottom": null,
       "display": null,
       "flex": null,
       "flex_flow": null,
       "grid_area": null,
       "grid_auto_columns": null,
       "grid_auto_flow": null,
       "grid_auto_rows": null,
       "grid_column": null,
       "grid_gap": null,
       "grid_row": null,
       "grid_template_areas": null,
       "grid_template_columns": null,
       "grid_template_rows": null,
       "height": null,
       "justify_content": null,
       "justify_items": null,
       "left": null,
       "margin": null,
       "max_height": null,
       "max_width": null,
       "min_height": null,
       "min_width": null,
       "object_fit": null,
       "object_position": null,
       "order": null,
       "overflow": null,
       "overflow_x": null,
       "overflow_y": null,
       "padding": null,
       "right": null,
       "top": null,
       "visibility": null,
       "width": null
      }
     },
     "bf64b1a6b24a4dd8be48b5030b3fc850": {
      "model_module": "@jupyter-widgets/base",
      "model_module_version": "1.2.0",
      "model_name": "LayoutModel",
      "state": {
       "_model_module": "@jupyter-widgets/base",
       "_model_module_version": "1.2.0",
       "_model_name": "LayoutModel",
       "_view_count": null,
       "_view_module": "@jupyter-widgets/base",
       "_view_module_version": "1.2.0",
       "_view_name": "LayoutView",
       "align_content": null,
       "align_items": null,
       "align_self": null,
       "border": null,
       "bottom": null,
       "display": null,
       "flex": null,
       "flex_flow": null,
       "grid_area": null,
       "grid_auto_columns": null,
       "grid_auto_flow": null,
       "grid_auto_rows": null,
       "grid_column": null,
       "grid_gap": null,
       "grid_row": null,
       "grid_template_areas": null,
       "grid_template_columns": null,
       "grid_template_rows": null,
       "height": null,
       "justify_content": null,
       "justify_items": null,
       "left": null,
       "margin": null,
       "max_height": null,
       "max_width": null,
       "min_height": null,
       "min_width": null,
       "object_fit": null,
       "object_position": null,
       "order": null,
       "overflow": null,
       "overflow_x": null,
       "overflow_y": null,
       "padding": null,
       "right": null,
       "top": null,
       "visibility": null,
       "width": null
      }
     },
     "c15afd07afc144dcbb9206e13a957322": {
      "model_module": "@jupyter-widgets/base",
      "model_module_version": "1.2.0",
      "model_name": "LayoutModel",
      "state": {
       "_model_module": "@jupyter-widgets/base",
       "_model_module_version": "1.2.0",
       "_model_name": "LayoutModel",
       "_view_count": null,
       "_view_module": "@jupyter-widgets/base",
       "_view_module_version": "1.2.0",
       "_view_name": "LayoutView",
       "align_content": null,
       "align_items": null,
       "align_self": null,
       "border": null,
       "bottom": null,
       "display": null,
       "flex": null,
       "flex_flow": null,
       "grid_area": null,
       "grid_auto_columns": null,
       "grid_auto_flow": null,
       "grid_auto_rows": null,
       "grid_column": null,
       "grid_gap": null,
       "grid_row": null,
       "grid_template_areas": null,
       "grid_template_columns": null,
       "grid_template_rows": null,
       "height": null,
       "justify_content": null,
       "justify_items": null,
       "left": null,
       "margin": null,
       "max_height": null,
       "max_width": null,
       "min_height": null,
       "min_width": null,
       "object_fit": null,
       "object_position": null,
       "order": null,
       "overflow": null,
       "overflow_x": null,
       "overflow_y": null,
       "padding": null,
       "right": null,
       "top": null,
       "visibility": null,
       "width": null
      }
     },
     "c372b33b7e6a4417a4e00cc99a37d1b7": {
      "model_module": "@jupyter-widgets/controls",
      "model_module_version": "1.5.0",
      "model_name": "FloatProgressModel",
      "state": {
       "_dom_classes": [],
       "_model_module": "@jupyter-widgets/controls",
       "_model_module_version": "1.5.0",
       "_model_name": "FloatProgressModel",
       "_view_count": null,
       "_view_module": "@jupyter-widgets/controls",
       "_view_module_version": "1.5.0",
       "_view_name": "ProgressView",
       "bar_style": "success",
       "description": "",
       "description_tooltip": null,
       "layout": "IPY_MODEL_472b973c00d44be7a239ba526842ff4f",
       "max": 16.0,
       "min": 0.0,
       "orientation": "horizontal",
       "style": "IPY_MODEL_ba21a24b1b144f1196a03a025b296f00",
       "value": 16.0
      }
     },
     "c92b54f56f424429b642caf11b982ee8": {
      "model_module": "@jupyter-widgets/base",
      "model_module_version": "1.2.0",
      "model_name": "LayoutModel",
      "state": {
       "_model_module": "@jupyter-widgets/base",
       "_model_module_version": "1.2.0",
       "_model_name": "LayoutModel",
       "_view_count": null,
       "_view_module": "@jupyter-widgets/base",
       "_view_module_version": "1.2.0",
       "_view_name": "LayoutView",
       "align_content": null,
       "align_items": null,
       "align_self": null,
       "border": null,
       "bottom": null,
       "display": null,
       "flex": null,
       "flex_flow": null,
       "grid_area": null,
       "grid_auto_columns": null,
       "grid_auto_flow": null,
       "grid_auto_rows": null,
       "grid_column": null,
       "grid_gap": null,
       "grid_row": null,
       "grid_template_areas": null,
       "grid_template_columns": null,
       "grid_template_rows": null,
       "height": null,
       "justify_content": null,
       "justify_items": null,
       "left": null,
       "margin": null,
       "max_height": null,
       "max_width": null,
       "min_height": null,
       "min_width": null,
       "object_fit": null,
       "object_position": null,
       "order": null,
       "overflow": null,
       "overflow_x": null,
       "overflow_y": null,
       "padding": null,
       "right": null,
       "top": null,
       "visibility": null,
       "width": null
      }
     },
     "c9edd938b10545aaaea27e5ec22e998a": {
      "model_module": "@jupyter-widgets/controls",
      "model_module_version": "1.5.0",
      "model_name": "DescriptionStyleModel",
      "state": {
       "_model_module": "@jupyter-widgets/controls",
       "_model_module_version": "1.5.0",
       "_model_name": "DescriptionStyleModel",
       "_view_count": null,
       "_view_module": "@jupyter-widgets/base",
       "_view_module_version": "1.2.0",
       "_view_name": "StyleView",
       "description_width": ""
      }
     },
     "ccfa4320ffc94efc9743f4e753794736": {
      "model_module": "@jupyter-widgets/controls",
      "model_module_version": "1.5.0",
      "model_name": "ProgressStyleModel",
      "state": {
       "_model_module": "@jupyter-widgets/controls",
       "_model_module_version": "1.5.0",
       "_model_name": "ProgressStyleModel",
       "_view_count": null,
       "_view_module": "@jupyter-widgets/base",
       "_view_module_version": "1.2.0",
       "_view_name": "StyleView",
       "bar_color": null,
       "description_width": ""
      }
     },
     "cebad3912c8e4910bd7e5432f7138588": {
      "model_module": "@jupyter-widgets/controls",
      "model_module_version": "1.5.0",
      "model_name": "ProgressStyleModel",
      "state": {
       "_model_module": "@jupyter-widgets/controls",
       "_model_module_version": "1.5.0",
       "_model_name": "ProgressStyleModel",
       "_view_count": null,
       "_view_module": "@jupyter-widgets/base",
       "_view_module_version": "1.2.0",
       "_view_name": "StyleView",
       "bar_color": null,
       "description_width": ""
      }
     },
     "ceda81a8fa3c4c68868202c4a9bcb176": {
      "model_module": "@jupyter-widgets/base",
      "model_module_version": "1.2.0",
      "model_name": "LayoutModel",
      "state": {
       "_model_module": "@jupyter-widgets/base",
       "_model_module_version": "1.2.0",
       "_model_name": "LayoutModel",
       "_view_count": null,
       "_view_module": "@jupyter-widgets/base",
       "_view_module_version": "1.2.0",
       "_view_name": "LayoutView",
       "align_content": null,
       "align_items": null,
       "align_self": null,
       "border": null,
       "bottom": null,
       "display": null,
       "flex": null,
       "flex_flow": null,
       "grid_area": null,
       "grid_auto_columns": null,
       "grid_auto_flow": null,
       "grid_auto_rows": null,
       "grid_column": null,
       "grid_gap": null,
       "grid_row": null,
       "grid_template_areas": null,
       "grid_template_columns": null,
       "grid_template_rows": null,
       "height": null,
       "justify_content": null,
       "justify_items": null,
       "left": null,
       "margin": null,
       "max_height": null,
       "max_width": null,
       "min_height": null,
       "min_width": null,
       "object_fit": null,
       "object_position": null,
       "order": null,
       "overflow": null,
       "overflow_x": null,
       "overflow_y": null,
       "padding": null,
       "right": null,
       "top": null,
       "visibility": null,
       "width": null
      }
     },
     "cf4be216f9e84f08bc763c0430d0088a": {
      "model_module": "@jupyter-widgets/base",
      "model_module_version": "1.2.0",
      "model_name": "LayoutModel",
      "state": {
       "_model_module": "@jupyter-widgets/base",
       "_model_module_version": "1.2.0",
       "_model_name": "LayoutModel",
       "_view_count": null,
       "_view_module": "@jupyter-widgets/base",
       "_view_module_version": "1.2.0",
       "_view_name": "LayoutView",
       "align_content": null,
       "align_items": null,
       "align_self": null,
       "border": null,
       "bottom": null,
       "display": null,
       "flex": null,
       "flex_flow": null,
       "grid_area": null,
       "grid_auto_columns": null,
       "grid_auto_flow": null,
       "grid_auto_rows": null,
       "grid_column": null,
       "grid_gap": null,
       "grid_row": null,
       "grid_template_areas": null,
       "grid_template_columns": null,
       "grid_template_rows": null,
       "height": null,
       "justify_content": null,
       "justify_items": null,
       "left": null,
       "margin": null,
       "max_height": null,
       "max_width": null,
       "min_height": null,
       "min_width": null,
       "object_fit": null,
       "object_position": null,
       "order": null,
       "overflow": null,
       "overflow_x": null,
       "overflow_y": null,
       "padding": null,
       "right": null,
       "top": null,
       "visibility": null,
       "width": null
      }
     },
     "d3dfc8cc45db49f0870a6ae6db6088f8": {
      "model_module": "@jupyter-widgets/base",
      "model_module_version": "1.2.0",
      "model_name": "LayoutModel",
      "state": {
       "_model_module": "@jupyter-widgets/base",
       "_model_module_version": "1.2.0",
       "_model_name": "LayoutModel",
       "_view_count": null,
       "_view_module": "@jupyter-widgets/base",
       "_view_module_version": "1.2.0",
       "_view_name": "LayoutView",
       "align_content": null,
       "align_items": null,
       "align_self": null,
       "border": null,
       "bottom": null,
       "display": null,
       "flex": null,
       "flex_flow": null,
       "grid_area": null,
       "grid_auto_columns": null,
       "grid_auto_flow": null,
       "grid_auto_rows": null,
       "grid_column": null,
       "grid_gap": null,
       "grid_row": null,
       "grid_template_areas": null,
       "grid_template_columns": null,
       "grid_template_rows": null,
       "height": null,
       "justify_content": null,
       "justify_items": null,
       "left": null,
       "margin": null,
       "max_height": null,
       "max_width": null,
       "min_height": null,
       "min_width": null,
       "object_fit": null,
       "object_position": null,
       "order": null,
       "overflow": null,
       "overflow_x": null,
       "overflow_y": null,
       "padding": null,
       "right": null,
       "top": null,
       "visibility": null,
       "width": null
      }
     },
     "d43ea5a8ec694cf2817cccfc42b85046": {
      "model_module": "@jupyter-widgets/controls",
      "model_module_version": "1.5.0",
      "model_name": "FloatProgressModel",
      "state": {
       "_dom_classes": [],
       "_model_module": "@jupyter-widgets/controls",
       "_model_module_version": "1.5.0",
       "_model_name": "FloatProgressModel",
       "_view_count": null,
       "_view_module": "@jupyter-widgets/controls",
       "_view_module_version": "1.5.0",
       "_view_name": "ProgressView",
       "bar_style": "success",
       "description": "",
       "description_tooltip": null,
       "layout": "IPY_MODEL_1779868a8b4d466fbe01c586c4696593",
       "max": 16.0,
       "min": 0.0,
       "orientation": "horizontal",
       "style": "IPY_MODEL_cebad3912c8e4910bd7e5432f7138588",
       "value": 16.0
      }
     },
     "d4e95fc0f9df4f84b9f0e8150841fafb": {
      "model_module": "@jupyter-widgets/controls",
      "model_module_version": "1.5.0",
      "model_name": "HTMLModel",
      "state": {
       "_dom_classes": [],
       "_model_module": "@jupyter-widgets/controls",
       "_model_module_version": "1.5.0",
       "_model_name": "HTMLModel",
       "_view_count": null,
       "_view_module": "@jupyter-widgets/controls",
       "_view_module_version": "1.5.0",
       "_view_name": "HTMLView",
       "description": "",
       "description_tooltip": null,
       "layout": "IPY_MODEL_47747b9e297c46fa8598a8c52af6f82a",
       "placeholder": "​",
       "style": "IPY_MODEL_c9edd938b10545aaaea27e5ec22e998a",
       "value": " 16/16 [00:02&lt;00:00,  5.88it/s]"
      }
     },
     "d526f7344764459ca58eed6558fae500": {
      "model_module": "@jupyter-widgets/controls",
      "model_module_version": "1.5.0",
      "model_name": "HBoxModel",
      "state": {
       "_dom_classes": [],
       "_model_module": "@jupyter-widgets/controls",
       "_model_module_version": "1.5.0",
       "_model_name": "HBoxModel",
       "_view_count": null,
       "_view_module": "@jupyter-widgets/controls",
       "_view_module_version": "1.5.0",
       "_view_name": "HBoxView",
       "box_style": "",
       "children": [
        "IPY_MODEL_e5d4a6e46f864507a2f9502e4dc21719",
        "IPY_MODEL_d43ea5a8ec694cf2817cccfc42b85046",
        "IPY_MODEL_a037abeed197477bb2ab22eaf967c8e4"
       ],
       "layout": "IPY_MODEL_ceda81a8fa3c4c68868202c4a9bcb176"
      }
     },
     "d76586481f484963b1a86a8610cfc73b": {
      "model_module": "@jupyter-widgets/controls",
      "model_module_version": "1.5.0",
      "model_name": "DescriptionStyleModel",
      "state": {
       "_model_module": "@jupyter-widgets/controls",
       "_model_module_version": "1.5.0",
       "_model_name": "DescriptionStyleModel",
       "_view_count": null,
       "_view_module": "@jupyter-widgets/base",
       "_view_module_version": "1.2.0",
       "_view_name": "StyleView",
       "description_width": ""
      }
     },
     "d78568a83ad04f799c7a410a40bea2ad": {
      "model_module": "@jupyter-widgets/controls",
      "model_module_version": "1.5.0",
      "model_name": "FloatProgressModel",
      "state": {
       "_dom_classes": [],
       "_model_module": "@jupyter-widgets/controls",
       "_model_module_version": "1.5.0",
       "_model_name": "FloatProgressModel",
       "_view_count": null,
       "_view_module": "@jupyter-widgets/controls",
       "_view_module_version": "1.5.0",
       "_view_name": "ProgressView",
       "bar_style": "success",
       "description": "",
       "description_tooltip": null,
       "layout": "IPY_MODEL_200e0105114145328579d778753d2deb",
       "max": 16.0,
       "min": 0.0,
       "orientation": "horizontal",
       "style": "IPY_MODEL_7557372ffd7041afbe18be55ed7a7f22",
       "value": 16.0
      }
     },
     "d92a00be34164f9f8d1c114fadef88f1": {
      "model_module": "@jupyter-widgets/controls",
      "model_module_version": "1.5.0",
      "model_name": "FloatProgressModel",
      "state": {
       "_dom_classes": [],
       "_model_module": "@jupyter-widgets/controls",
       "_model_module_version": "1.5.0",
       "_model_name": "FloatProgressModel",
       "_view_count": null,
       "_view_module": "@jupyter-widgets/controls",
       "_view_module_version": "1.5.0",
       "_view_name": "ProgressView",
       "bar_style": "success",
       "description": "",
       "description_tooltip": null,
       "layout": "IPY_MODEL_162e116a5e824fb8bfcbe2564980424d",
       "max": 16.0,
       "min": 0.0,
       "orientation": "horizontal",
       "style": "IPY_MODEL_8e353d94ce0344eebfdf9ad76e28ef54",
       "value": 16.0
      }
     },
     "daa449a0fa1e4f2fbd4e840c3e756cc3": {
      "model_module": "@jupyter-widgets/base",
      "model_module_version": "1.2.0",
      "model_name": "LayoutModel",
      "state": {
       "_model_module": "@jupyter-widgets/base",
       "_model_module_version": "1.2.0",
       "_model_name": "LayoutModel",
       "_view_count": null,
       "_view_module": "@jupyter-widgets/base",
       "_view_module_version": "1.2.0",
       "_view_name": "LayoutView",
       "align_content": null,
       "align_items": null,
       "align_self": null,
       "border": null,
       "bottom": null,
       "display": null,
       "flex": null,
       "flex_flow": null,
       "grid_area": null,
       "grid_auto_columns": null,
       "grid_auto_flow": null,
       "grid_auto_rows": null,
       "grid_column": null,
       "grid_gap": null,
       "grid_row": null,
       "grid_template_areas": null,
       "grid_template_columns": null,
       "grid_template_rows": null,
       "height": null,
       "justify_content": null,
       "justify_items": null,
       "left": null,
       "margin": null,
       "max_height": null,
       "max_width": null,
       "min_height": null,
       "min_width": null,
       "object_fit": null,
       "object_position": null,
       "order": null,
       "overflow": null,
       "overflow_x": null,
       "overflow_y": null,
       "padding": null,
       "right": null,
       "top": null,
       "visibility": null,
       "width": null
      }
     },
     "db390552b54c40e995c9cedb4965aa87": {
      "model_module": "@jupyter-widgets/controls",
      "model_module_version": "1.5.0",
      "model_name": "DescriptionStyleModel",
      "state": {
       "_model_module": "@jupyter-widgets/controls",
       "_model_module_version": "1.5.0",
       "_model_name": "DescriptionStyleModel",
       "_view_count": null,
       "_view_module": "@jupyter-widgets/base",
       "_view_module_version": "1.2.0",
       "_view_name": "StyleView",
       "description_width": ""
      }
     },
     "df007ca8b44e4256a27787132911f8ce": {
      "model_module": "@jupyter-widgets/controls",
      "model_module_version": "1.5.0",
      "model_name": "HBoxModel",
      "state": {
       "_dom_classes": [],
       "_model_module": "@jupyter-widgets/controls",
       "_model_module_version": "1.5.0",
       "_model_name": "HBoxModel",
       "_view_count": null,
       "_view_module": "@jupyter-widgets/controls",
       "_view_module_version": "1.5.0",
       "_view_name": "HBoxView",
       "box_style": "",
       "children": [
        "IPY_MODEL_6a3a7d04dde5435099e9a04967e060ab",
        "IPY_MODEL_2da1eb4ca70848a091d87b3e745b7508",
        "IPY_MODEL_42da460ee70146ef9e8f0162fc0f7dc5"
       ],
       "layout": "IPY_MODEL_daa449a0fa1e4f2fbd4e840c3e756cc3"
      }
     },
     "e0f9b550f95f4913bf35f28ccfd1c3c3": {
      "model_module": "@jupyter-widgets/controls",
      "model_module_version": "1.5.0",
      "model_name": "HTMLModel",
      "state": {
       "_dom_classes": [],
       "_model_module": "@jupyter-widgets/controls",
       "_model_module_version": "1.5.0",
       "_model_name": "HTMLModel",
       "_view_count": null,
       "_view_module": "@jupyter-widgets/controls",
       "_view_module_version": "1.5.0",
       "_view_name": "HTMLView",
       "description": "",
       "description_tooltip": null,
       "layout": "IPY_MODEL_feb83c9035c2497384686209819d9d59",
       "placeholder": "​",
       "style": "IPY_MODEL_3f73098593b64c0d84b632efb093f7b0",
       "value": "100%"
      }
     },
     "e1d59e00d809433ab674f41df88041e7": {
      "model_module": "@jupyter-widgets/controls",
      "model_module_version": "1.5.0",
      "model_name": "HTMLModel",
      "state": {
       "_dom_classes": [],
       "_model_module": "@jupyter-widgets/controls",
       "_model_module_version": "1.5.0",
       "_model_name": "HTMLModel",
       "_view_count": null,
       "_view_module": "@jupyter-widgets/controls",
       "_view_module_version": "1.5.0",
       "_view_name": "HTMLView",
       "description": "",
       "description_tooltip": null,
       "layout": "IPY_MODEL_e731d3d1235b4fbd9ab107ad865b9dfe",
       "placeholder": "​",
       "style": "IPY_MODEL_e6f39516600243a3beee502c03cd75b1",
       "value": "100%"
      }
     },
     "e47854cd72b342f7804f74ec1a96be50": {
      "model_module": "@jupyter-widgets/controls",
      "model_module_version": "1.5.0",
      "model_name": "HBoxModel",
      "state": {
       "_dom_classes": [],
       "_model_module": "@jupyter-widgets/controls",
       "_model_module_version": "1.5.0",
       "_model_name": "HBoxModel",
       "_view_count": null,
       "_view_module": "@jupyter-widgets/controls",
       "_view_module_version": "1.5.0",
       "_view_name": "HBoxView",
       "box_style": "",
       "children": [
        "IPY_MODEL_b08b688c53bb4d30b3f5f599190eda3e",
        "IPY_MODEL_0d2d189ffc6e4c50b0de05e4afd30040",
        "IPY_MODEL_0a34fa16ef07429eb42ec53ea2a91f9d"
       ],
       "layout": "IPY_MODEL_64927baba37b435c8978653a6febeadf"
      }
     },
     "e5d4a6e46f864507a2f9502e4dc21719": {
      "model_module": "@jupyter-widgets/controls",
      "model_module_version": "1.5.0",
      "model_name": "HTMLModel",
      "state": {
       "_dom_classes": [],
       "_model_module": "@jupyter-widgets/controls",
       "_model_module_version": "1.5.0",
       "_model_name": "HTMLModel",
       "_view_count": null,
       "_view_module": "@jupyter-widgets/controls",
       "_view_module_version": "1.5.0",
       "_view_name": "HTMLView",
       "description": "",
       "description_tooltip": null,
       "layout": "IPY_MODEL_12de3103f1e54ecb9dd4b623a878465e",
       "placeholder": "​",
       "style": "IPY_MODEL_db390552b54c40e995c9cedb4965aa87",
       "value": "100%"
      }
     },
     "e6f39516600243a3beee502c03cd75b1": {
      "model_module": "@jupyter-widgets/controls",
      "model_module_version": "1.5.0",
      "model_name": "DescriptionStyleModel",
      "state": {
       "_model_module": "@jupyter-widgets/controls",
       "_model_module_version": "1.5.0",
       "_model_name": "DescriptionStyleModel",
       "_view_count": null,
       "_view_module": "@jupyter-widgets/base",
       "_view_module_version": "1.2.0",
       "_view_name": "StyleView",
       "description_width": ""
      }
     },
     "e731d3d1235b4fbd9ab107ad865b9dfe": {
      "model_module": "@jupyter-widgets/base",
      "model_module_version": "1.2.0",
      "model_name": "LayoutModel",
      "state": {
       "_model_module": "@jupyter-widgets/base",
       "_model_module_version": "1.2.0",
       "_model_name": "LayoutModel",
       "_view_count": null,
       "_view_module": "@jupyter-widgets/base",
       "_view_module_version": "1.2.0",
       "_view_name": "LayoutView",
       "align_content": null,
       "align_items": null,
       "align_self": null,
       "border": null,
       "bottom": null,
       "display": null,
       "flex": null,
       "flex_flow": null,
       "grid_area": null,
       "grid_auto_columns": null,
       "grid_auto_flow": null,
       "grid_auto_rows": null,
       "grid_column": null,
       "grid_gap": null,
       "grid_row": null,
       "grid_template_areas": null,
       "grid_template_columns": null,
       "grid_template_rows": null,
       "height": null,
       "justify_content": null,
       "justify_items": null,
       "left": null,
       "margin": null,
       "max_height": null,
       "max_width": null,
       "min_height": null,
       "min_width": null,
       "object_fit": null,
       "object_position": null,
       "order": null,
       "overflow": null,
       "overflow_x": null,
       "overflow_y": null,
       "padding": null,
       "right": null,
       "top": null,
       "visibility": null,
       "width": null
      }
     },
     "e9037ae220364345bc6664763b8b8495": {
      "model_module": "@jupyter-widgets/controls",
      "model_module_version": "1.5.0",
      "model_name": "DescriptionStyleModel",
      "state": {
       "_model_module": "@jupyter-widgets/controls",
       "_model_module_version": "1.5.0",
       "_model_name": "DescriptionStyleModel",
       "_view_count": null,
       "_view_module": "@jupyter-widgets/base",
       "_view_module_version": "1.2.0",
       "_view_name": "StyleView",
       "description_width": ""
      }
     },
     "e9038ea65763458c8f27a64551359b8f": {
      "model_module": "@jupyter-widgets/base",
      "model_module_version": "1.2.0",
      "model_name": "LayoutModel",
      "state": {
       "_model_module": "@jupyter-widgets/base",
       "_model_module_version": "1.2.0",
       "_model_name": "LayoutModel",
       "_view_count": null,
       "_view_module": "@jupyter-widgets/base",
       "_view_module_version": "1.2.0",
       "_view_name": "LayoutView",
       "align_content": null,
       "align_items": null,
       "align_self": null,
       "border": null,
       "bottom": null,
       "display": null,
       "flex": null,
       "flex_flow": null,
       "grid_area": null,
       "grid_auto_columns": null,
       "grid_auto_flow": null,
       "grid_auto_rows": null,
       "grid_column": null,
       "grid_gap": null,
       "grid_row": null,
       "grid_template_areas": null,
       "grid_template_columns": null,
       "grid_template_rows": null,
       "height": null,
       "justify_content": null,
       "justify_items": null,
       "left": null,
       "margin": null,
       "max_height": null,
       "max_width": null,
       "min_height": null,
       "min_width": null,
       "object_fit": null,
       "object_position": null,
       "order": null,
       "overflow": null,
       "overflow_x": null,
       "overflow_y": null,
       "padding": null,
       "right": null,
       "top": null,
       "visibility": null,
       "width": null
      }
     },
     "edc6d46e42c14cefb2c35115553552ce": {
      "model_module": "@jupyter-widgets/controls",
      "model_module_version": "1.5.0",
      "model_name": "DescriptionStyleModel",
      "state": {
       "_model_module": "@jupyter-widgets/controls",
       "_model_module_version": "1.5.0",
       "_model_name": "DescriptionStyleModel",
       "_view_count": null,
       "_view_module": "@jupyter-widgets/base",
       "_view_module_version": "1.2.0",
       "_view_name": "StyleView",
       "description_width": ""
      }
     },
     "ee108c588c714ab99a25fb8b254ce894": {
      "model_module": "@jupyter-widgets/controls",
      "model_module_version": "1.5.0",
      "model_name": "FloatProgressModel",
      "state": {
       "_dom_classes": [],
       "_model_module": "@jupyter-widgets/controls",
       "_model_module_version": "1.5.0",
       "_model_name": "FloatProgressModel",
       "_view_count": null,
       "_view_module": "@jupyter-widgets/controls",
       "_view_module_version": "1.5.0",
       "_view_name": "ProgressView",
       "bar_style": "success",
       "description": "",
       "description_tooltip": null,
       "layout": "IPY_MODEL_bf64b1a6b24a4dd8be48b5030b3fc850",
       "max": 16.0,
       "min": 0.0,
       "orientation": "horizontal",
       "style": "IPY_MODEL_7456df18a021415f9fd9ab63192cb523",
       "value": 16.0
      }
     },
     "f70a00262cd44c518a9285edfd97e667": {
      "model_module": "@jupyter-widgets/controls",
      "model_module_version": "1.5.0",
      "model_name": "DescriptionStyleModel",
      "state": {
       "_model_module": "@jupyter-widgets/controls",
       "_model_module_version": "1.5.0",
       "_model_name": "DescriptionStyleModel",
       "_view_count": null,
       "_view_module": "@jupyter-widgets/base",
       "_view_module_version": "1.2.0",
       "_view_name": "StyleView",
       "description_width": ""
      }
     },
     "f752cbde6bfc415c9a9a115b5bd6aecc": {
      "model_module": "@jupyter-widgets/base",
      "model_module_version": "1.2.0",
      "model_name": "LayoutModel",
      "state": {
       "_model_module": "@jupyter-widgets/base",
       "_model_module_version": "1.2.0",
       "_model_name": "LayoutModel",
       "_view_count": null,
       "_view_module": "@jupyter-widgets/base",
       "_view_module_version": "1.2.0",
       "_view_name": "LayoutView",
       "align_content": null,
       "align_items": null,
       "align_self": null,
       "border": null,
       "bottom": null,
       "display": null,
       "flex": null,
       "flex_flow": null,
       "grid_area": null,
       "grid_auto_columns": null,
       "grid_auto_flow": null,
       "grid_auto_rows": null,
       "grid_column": null,
       "grid_gap": null,
       "grid_row": null,
       "grid_template_areas": null,
       "grid_template_columns": null,
       "grid_template_rows": null,
       "height": null,
       "justify_content": null,
       "justify_items": null,
       "left": null,
       "margin": null,
       "max_height": null,
       "max_width": null,
       "min_height": null,
       "min_width": null,
       "object_fit": null,
       "object_position": null,
       "order": null,
       "overflow": null,
       "overflow_x": null,
       "overflow_y": null,
       "padding": null,
       "right": null,
       "top": null,
       "visibility": null,
       "width": null
      }
     },
     "fe909a72ceb84fd1bd5f7c599ed42033": {
      "model_module": "@jupyter-widgets/controls",
      "model_module_version": "1.5.0",
      "model_name": "HBoxModel",
      "state": {
       "_dom_classes": [],
       "_model_module": "@jupyter-widgets/controls",
       "_model_module_version": "1.5.0",
       "_model_name": "HBoxModel",
       "_view_count": null,
       "_view_module": "@jupyter-widgets/controls",
       "_view_module_version": "1.5.0",
       "_view_name": "HBoxView",
       "box_style": "",
       "children": [
        "IPY_MODEL_bbbf25c598284fc39495285008775957",
        "IPY_MODEL_d92a00be34164f9f8d1c114fadef88f1",
        "IPY_MODEL_d4e95fc0f9df4f84b9f0e8150841fafb"
       ],
       "layout": "IPY_MODEL_6707a3c3c1c7442792b7761b37e98ea0"
      }
     },
     "feb83c9035c2497384686209819d9d59": {
      "model_module": "@jupyter-widgets/base",
      "model_module_version": "1.2.0",
      "model_name": "LayoutModel",
      "state": {
       "_model_module": "@jupyter-widgets/base",
       "_model_module_version": "1.2.0",
       "_model_name": "LayoutModel",
       "_view_count": null,
       "_view_module": "@jupyter-widgets/base",
       "_view_module_version": "1.2.0",
       "_view_name": "LayoutView",
       "align_content": null,
       "align_items": null,
       "align_self": null,
       "border": null,
       "bottom": null,
       "display": null,
       "flex": null,
       "flex_flow": null,
       "grid_area": null,
       "grid_auto_columns": null,
       "grid_auto_flow": null,
       "grid_auto_rows": null,
       "grid_column": null,
       "grid_gap": null,
       "grid_row": null,
       "grid_template_areas": null,
       "grid_template_columns": null,
       "grid_template_rows": null,
       "height": null,
       "justify_content": null,
       "justify_items": null,
       "left": null,
       "margin": null,
       "max_height": null,
       "max_width": null,
       "min_height": null,
       "min_width": null,
       "object_fit": null,
       "object_position": null,
       "order": null,
       "overflow": null,
       "overflow_x": null,
       "overflow_y": null,
       "padding": null,
       "right": null,
       "top": null,
       "visibility": null,
       "width": null
      }
     }
    },
    "version_major": 2,
    "version_minor": 0
   }
  }
 },
 "nbformat": 4,
 "nbformat_minor": 5
}
